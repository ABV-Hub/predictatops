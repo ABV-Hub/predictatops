{
 "cells": [
  {
   "cell_type": "markdown",
   "metadata": {},
   "source": [
    "# Example_module_wellsKNN_v1"
   ]
  },
  {
   "cell_type": "markdown",
   "metadata": {},
   "source": [
    "Justin Gosses May 2019\n",
    "### Uses these modules of Predictatops:\n",
    "1. WellsKNN\n",
    "\n",
    "This notebook is modeled after the code in wellsKNN_runner.py in predictatops source folder"
   ]
  },
  {
   "cell_type": "markdown",
   "metadata": {},
   "source": [
    "First, it should be noted that Predictatops isn't on Pypy, so we're going go to be loading the Python modules from a local directory and this notebook is running from the demo folder in the same Predictatops directory. If you run it from elsewhere, you'll have to change the paths.\n",
    "\n"
   ]
  },
  {
   "cell_type": "code",
   "execution_count": 1,
   "metadata": {},
   "outputs": [
    {
     "name": "stdout",
     "output_type": "stream",
     "text": [
      "Example_firstSteps_modules_fetchdata_configuration_checkdata.ipynb\r\n",
      "Example_junk_post_balance.ipynb\r\n",
      "Example_module_all_runner_temp_v1b.ipynb\r\n",
      "Example_module_balance_v1.ipynb\r\n",
      "Example_module_predictionclasses_v1.ipynb\r\n",
      "Example_module_trainclasses_v2.ipynb\r\n",
      "Example_module_wellsKNN_v1.ipynb\r\n",
      "README.md\r\n",
      "current_errors_TopMcMr_20181006.png\r\n",
      "\u001b[34mmannville_demo_data\u001b[m\u001b[m/\r\n",
      "mannville_demo_data.zip\r\n"
     ]
    }
   ],
   "source": [
    "ls"
   ]
  },
  {
   "cell_type": "code",
   "execution_count": 2,
   "metadata": {},
   "outputs": [
    {
     "name": "stdout",
     "output_type": "stream",
     "text": [
      "/Users/justingosses/Code/predictatops\n"
     ]
    }
   ],
   "source": [
    "cd .."
   ]
  },
  {
   "cell_type": "code",
   "execution_count": 3,
   "metadata": {},
   "outputs": [
    {
     "name": "stdout",
     "output_type": "stream",
     "text": [
      "/Users/justingosses/Code/predictatops/predictatops\n"
     ]
    }
   ],
   "source": [
    "cd predictatops/"
   ]
  },
  {
   "cell_type": "code",
   "execution_count": 4,
   "metadata": {},
   "outputs": [
    {
     "name": "stdout",
     "output_type": "stream",
     "text": [
      "__init__.py                       load_runner.py\r\n",
      "\u001b[34m__pycache__\u001b[m\u001b[m/                      main.py\r\n",
      "all_runner.py                     map.py\r\n",
      "balance.py                        plot.py\r\n",
      "balance_runner.py                 plot_runner.py\r\n",
      "checkdata.py                      predictionclasses.py\r\n",
      "checkdata_runner.py               predictionclasses_runner.py\r\n",
      "cli.py                            registry.txt\r\n",
      "configurationplusfiles.py         split.py\r\n",
      "configurationplusfiles_runner.py  split_runner.py\r\n",
      "\u001b[34mdask-worker-space\u001b[m\u001b[m/                trainclasses.py\r\n",
      "features.py                       trainclasses_runner.py\r\n",
      "features_runner.py                wellsKNN.py\r\n",
      "fetch_demo_data.py                wellsKNN_runner.py\r\n",
      "load.py\r\n"
     ]
    }
   ],
   "source": [
    "ls"
   ]
  },
  {
   "cell_type": "markdown",
   "metadata": {},
   "source": [
    "Now we should be in the Predictatops source file and see various .py files"
   ]
  },
  {
   "cell_type": "code",
   "execution_count": 5,
   "metadata": {},
   "outputs": [
    {
     "name": "stdout",
     "output_type": "stream",
     "text": [
      "head of picks df =      SitID  HorID      Pick  Quality\n",
      "0  102496   1000       321        1\n",
      "1  102496   2000                 -1\n",
      "2  102496   3000                 -1\n",
      "3  102496   4000                 -1\n",
      "4  102496   5000       438        2\n",
      "making base folder for results in: ../results_higherBlanceAndLowerWindows_20190517\n",
      "base_path directory already exists, ../results_higherBlanceAndLowerWindows_20190517  so not creating it again. This may or may not be what you intended, so just flagging it.\n",
      "directory  checkData  already exists so not making it again in make_all_directories function of configurationplusfiles.py\n",
      "directory  load  already exists so not making it again in make_all_directories function of configurationplusfiles.py\n",
      "directory  split  already exists so not making it again in make_all_directories function of configurationplusfiles.py\n",
      "directory  wellsKNN  already exists so not making it again in make_all_directories function of configurationplusfiles.py\n",
      "directory  features  already exists so not making it again in make_all_directories function of configurationplusfiles.py\n",
      "directory  balance  already exists so not making it again in make_all_directories function of configurationplusfiles.py\n",
      "directory  trainclasses  already exists so not making it again in make_all_directories function of configurationplusfiles.py\n",
      "directory  prediction  already exists so not making it again in make_all_directories function of configurationplusfiles.py\n",
      "directory  evaluate  already exists so not making it again in make_all_directories function of configurationplusfiles.py\n",
      "directory  map  already exists so not making it again in make_all_directories function of configurationplusfiles.py\n",
      "made directories for each step in the process. They should be in :  ../results_higherBlanceAndLowerWindows_20190517\n",
      "must have curve list is:  ['ILD', 'NPHI', 'GR', 'DPHI', 'DEPT']\n",
      "set must_have_tops_list as:  [13000, 14000]\n",
      " set self.top_name_col_in_picks_df as:  HorID\n",
      "config.siteID_col_in_picks_df =  SitID\n",
      "all config is {'trainOrTest': 'trainOrTest', 'quality_col_name_in_picks_df': 'Quality', 'UWI': 'UWI', 'target_top': 13000, 'top_name_col_in_picks_df': 'HorID', 'DEPTH_col_in_featureCreation': 'DEPT', 'kdtree_leaf': 2, 'max_numb_wells_to_load': 1000000, 'csv_of_well_names_wTopsCuves__name': '', 'rebalanceClass95Multiplier': 60, 'split_traintest_percent': 0.8, 'columns_to_not_trainOn_andNotCurves': ['FromBotWell', 'FromTopWelrowsToEdge', 'lat', 'lng', 'SitID', 'TopHelper_HorID', 'TopTarget_HorID', 'TopHelper_DEPTH', 'diff_Top_Depth_Real_v_predBy_NN1thick', 'diff_TopTarget_DEPTH_v_rowDEPT', 'diff_TopHelper_DEPTH_v_rowDEPT', 'class_DistFrPick_TopHelper', 'NewWell', 'LastBitWell', 'TopWellDept', 'BotWellDept', 'WellThickness', 'rowsToEdge', 'closTopBotDist', 'closerToBotOrTop', 'Neighbors_Obj'], 'threshold_returnCurvesThatArePresentInThisManyWells': 2000, 'NN1_TopHelper_DEPTH': 'NN1_TopHelper_DEPTH', 'columns_to_not_trainOn_andAreCurves': ['RHOB', 'SP', 'CALI', 'COND', 'DELT', 'DENS', 'DPHI:1', 'DPHI:2', 'DT', 'GR:1', 'GR:2', 'IL', 'ILD:1', 'ILD:2', 'ILM', 'LITH', 'LLD', 'LLS', 'PHID', 'PHIN', 'RESD', 'RT', 'SFL', 'SFLU', 'SN', 'SNP', 'Sp'], 'NN1_topTarget_DEPTH': 'NN1_topTarget_DEPTH', 'curve_windows_for_rolling_features': [5, 7, 11, 21], 'csv_of_well_names_wTopCurves__path': '.', 'must_have_tops__list': [13000, 14000], 'must_have_curves_list': ['ILD', 'NPHI', 'GR', 'DPHI', 'DEPT'], 'kdtree_k': 8, 'pick_class_str': 'TopTarget_Pick_pred', 'siteID_col_in_picks_df': 'SitID', 'columns_to_use_as_labels': ['class_DistFrPick_TopTarget', 'UWI', 'trainOrTest', 'TopTarget_DEPTH'], 'HorID_name_col_in_picks_df': 'HorID', 'zonesAroundTops': {'100': [0], '95': [-0.5, 0.5], '0': [], '70': [0.5, 5], '60': [-5, 0.5]}, 'rebalanceClassZeroMultiplier': 120, 'top_under_target': 14000, 'quality_items_to_skip__list': [-1, 0], 'picks_depth_col_in_picks_df': 'Pick', 'test': 'test0', 'col_topTarget_Depth_predBy_NN1thick': 'topTarget_Depth_predBy_NN1thick', 'colsToNotTurnToFloats': ['UWI', 'SitID', 'trainOrTest', 'Neighbors_Obj']}\n"
     ]
    }
   ],
   "source": [
    "################ imports ###################\n",
    "import pandas as pd\n",
    "################ import from other python files in this package ###################\n",
    "from wellsKNN import *\n",
    "from configurationplusfiles_runner import input_data_inst, config, output_data_inst"
   ]
  },
  {
   "cell_type": "markdown",
   "metadata": {},
   "source": [
    "################ Load wells df saved from running split functions ###################\n",
    "################ This file is wells loaded with no features but does have a column for train test split ##################"
   ]
  },
  {
   "cell_type": "code",
   "execution_count": 6,
   "metadata": {},
   "outputs": [
    {
     "name": "stdout",
     "output_type": "stream",
     "text": [
      "wells_df_from_split.columns Index(['CALI', 'COND', 'DELT', 'DEPT', 'DPHI', 'DT', 'GR', 'ILD', 'ILM',\n",
      "       'NPHI', 'PHID', 'RHOB', 'SFL', 'SFLU', 'SN', 'SP', 'UWI',\n",
      "       'trainOrTest'],\n",
      "      dtype='object')\n"
     ]
    }
   ],
   "source": [
    "##### path to input file ######\n",
    "split_dir = output_data_inst.base_path_for_all_results+ \"/\" + output_data_inst.path_split\n",
    "split_file = output_data_inst.split_results_wells_df\n",
    "ending = output_data_inst.default_results_file_format\n",
    "full_path_to_split_results = split_dir+\"/\"+split_file+ending\n",
    "##### loading wells df created in split ######\n",
    "wells_df_from_split  = pd.read_hdf(full_path_to_split_results)\n",
    "print(\"wells_df_from_split.columns\",wells_df_from_split.columns)"
   ]
  },
  {
   "cell_type": "markdown",
   "metadata": {},
   "source": [
    "### Load all df for picks, pick dictionary, wells, and coordinate data.\n",
    "### Paths for loading these come from input_data class in configurationplusfiles.py"
   ]
  },
  {
   "cell_type": "code",
   "execution_count": 7,
   "metadata": {
    "collapsed": true
   },
   "outputs": [],
   "source": [
    "################ Load all df for picks, pick dictionary, wells, and coordinate data. ###################\n",
    "################ Paths for loading these come from input_data class in configurationplusfiles.py ###################\n",
    "picks, picks_dic, wells, gis  = get_data_for_wellsKNN(input_data_inst)"
   ]
  },
  {
   "cell_type": "markdown",
   "metadata": {},
   "source": [
    "### Target is the name of the top we're trying to predict\n",
    "### target_base is the name of the top under if we're using for guidance"
   ]
  },
  {
   "cell_type": "code",
   "execution_count": 8,
   "metadata": {
    "collapsed": true
   },
   "outputs": [],
   "source": [
    "################ Target is the name of the top we're trying to predict ###################\n",
    "################ target_base is the name of the top under if we're using for guidance ###################\n",
    "target, target_base = getTopsForWantedPickNames(config)"
   ]
  },
  {
   "cell_type": "markdown",
   "metadata": {},
   "source": [
    "Generates two dataframes. Each with the pick depths of only a given top."
   ]
  },
  {
   "cell_type": "code",
   "execution_count": 9,
   "metadata": {
    "collapsed": true
   },
   "outputs": [],
   "source": [
    "################ Generates two dataframes. Each with the pick depths of only a given top. ###################\n",
    "picks_targetTop, picks_targetBase = findAllPicksForTops(picks, target, target_base, config.HorID_name_col_in_picks_df)\n"
   ]
  },
  {
   "cell_type": "markdown",
   "metadata": {},
   "source": [
    "Merges many of the dataframes together based on config.siteID_col_in_picks_df "
   ]
  },
  {
   "cell_type": "code",
   "execution_count": 10,
   "metadata": {},
   "outputs": [
    {
     "name": "stdout",
     "output_type": "stream",
     "text": [
      "    SitID    UWI (AGS)_x                UWI_x  HorID_x Pick_x  Quality_x  \\\n",
      "0  102496  0674010812000  00/12-08-067-01W4/0    14000    561          1   \n",
      "1  102497  0674020807000  00/07-08-067-02W4/0    14000  604.5          1   \n",
      "2  102498  0674021109000  00/09-11-067-02W4/0    14000    564          1   \n",
      "3  102500  0674022910000  00/10-29-067-02W4/0    14000  636.5          1   \n",
      "4  102501  0674023406000  00/06-34-067-02W4/0    14000    613          1   \n",
      "\n",
      "     UWI (AGS)_y                UWI_y  HorID_y Pick_y  Quality_y        lat  \\\n",
      "0  0674010812000  00/12-08-067-01W4/0    13000    475          3  54.785907   \n",
      "1  0674020807000  00/07-08-067-02W4/0    13000    515          3  54.782284   \n",
      "2  0674021109000  00/09-11-067-02W4/0    13000    480          3  54.785892   \n",
      "3  0674022910000  00/10-29-067-02W4/0    13000    549          3  54.829624   \n",
      "4  0674023406000  00/06-34-067-02W4/0    13000    529          2  54.840471   \n",
      "\n",
      "          lng      UWI (AGS)                  UWI  HorID Pick  Quality  \n",
      "0 -110.129320  0674010812000  00/12-08-067-01W4/0  13000  475        3  \n",
      "1 -110.269446  0674020807000  00/07-08-067-02W4/0  13000  515        3  \n",
      "2 -110.186851  0674021109000  00/09-11-067-02W4/0  13000  480        3  \n",
      "3 -110.269422  0674022910000  00/10-29-067-02W4/0  13000  549        3  \n",
      "4 -110.224832  0674023406000  00/06-34-067-02W4/0  13000  529        2  \n"
     ]
    }
   ],
   "source": [
    "################ Merges many of the dataframes together based on config.siteID_col_in_picks_df ###################\n",
    "df_new = mergeDataframes(wells,picks_targetTop,config.siteID_col_in_picks_df,picks_targetBase, gis)\n",
    "\n",
    "print(df_new.head())"
   ]
  },
  {
   "cell_type": "markdown",
   "metadata": {},
   "source": [
    "Let's limit the GIS and pick information dataframe to only the wells we're going to use and exclude any we're not going to use for not having the needed tops and curves. We'll have to change the format of the UWU col slightly to do this"
   ]
  },
  {
   "cell_type": "code",
   "execution_count": 11,
   "metadata": {},
   "outputs": [
    {
     "name": "stdout",
     "output_type": "stream",
     "text": [
      "examples of what the well format looks like in wellsLoaded_list ['00-11-21-077-07W4-0.LAS' '00-07-26-074-05W4-0.LAS'\n",
      " '00-12-19-075-09W4-0.LAS']\n"
     ]
    }
   ],
   "source": [
    "################ Let's limit the GIS and pick information dataframe to only the wells we're going to use and ###################\n",
    "################ exclude any we're not going to use for not having the needed tops and curves. ###################\n",
    "################ We'll have to change the format of the UWU col slightly to do this ###################\n",
    "\n",
    "wellsLoaded_list = createListOfWellNamesLoadedSplit(wells_df_from_split,config)"
   ]
  },
  {
   "cell_type": "code",
   "execution_count": 12,
   "metadata": {},
   "outputs": [
    {
     "name": "stdout",
     "output_type": "stream",
     "text": [
      "new_wells_loaded_list_inUWIstyle[5:8] ['00/11-11-080-19W4/0', '00/06-25-082-09W4/0', '00/06-31-067-15W4/0']\n"
     ]
    }
   ],
   "source": [
    "new_wells_loaded_list_inUWIstyle = findListOfConvertedUWInamesForWellsLoaded(wells_df_from_split,config.UWI,input_data_inst.well_format)\n",
    "print(\"new_wells_loaded_list_inUWIstyle[5:8]\",new_wells_loaded_list_inUWIstyle[5:8])\n"
   ]
  },
  {
   "cell_type": "code",
   "execution_count": null,
   "metadata": {
    "collapsed": true
   },
   "outputs": [],
   "source": []
  },
  {
   "cell_type": "code",
   "execution_count": 13,
   "metadata": {},
   "outputs": [
    {
     "name": "stdout",
     "output_type": "stream",
     "text": [
      "len(df_new_allWells) 2193\n"
     ]
    }
   ],
   "source": [
    "################ This next step will reduce the total number of wells to just the ones that have at least the tops and curves we need ################ \n",
    "\n",
    "df_reduced = reduced_df_from_split_plus_more(df_new,new_wells_loaded_list_inUWIstyle,config.UWI)"
   ]
  },
  {
   "cell_type": "code",
   "execution_count": null,
   "metadata": {
    "collapsed": true
   },
   "outputs": [],
   "source": []
  },
  {
   "cell_type": "code",
   "execution_count": 14,
   "metadata": {},
   "outputs": [
    {
     "name": "stdout",
     "output_type": "stream",
     "text": [
      "UWIs_Geog.head()                    UWI        lat         lng  \\\n",
      "0  00/12-08-067-01W4/0  54.785907 -110.129320   \n",
      "1  00/07-08-067-02W4/0  54.782284 -110.269446   \n",
      "2  00/09-11-067-02W4/0  54.785892 -110.186851   \n",
      "3  00/10-29-067-02W4/0  54.829624 -110.269422   \n",
      "4  00/06-34-067-02W4/0  54.840471 -110.224832   \n",
      "\n",
      "                                       Neighbors_Obj  \n",
      "0  [{'UWI': '00/09-11-067-02W4/0', 'neighbor': 1,...  \n",
      "1  [{'UWI': '00/10-29-067-02W4/0', 'neighbor': 1,...  \n",
      "2  [{'UWI': '00/12-08-067-01W4/0', 'neighbor': 1,...  \n",
      "3  [{'UWI': '00/10-08-068-02W4/0', 'neighbor': 1,...  \n",
      "4  [{'UWI': '00/10-29-067-02W4/0', 'neighbor': 1,...  \n"
     ]
    }
   ],
   "source": [
    "################ We'll now find nearest N neighbors using a kdtree approach ################ \n",
    "tree, dist, ind = kdtree(df_reduced, input_data_inst.gis_lat_col, input_data_inst.gis_long_col, config.kdtree_leaf, config.kdtree_k)\n",
    "\n",
    "\n",
    "UWIs_Geog = makeKNearNeighObj(df_reduced,config.UWI,input_data_inst.gis_lat_col, input_data_inst.gis_long_col,dist,ind,config.kdtree_k)\n",
    "print(\"UWIs_Geog.head()\",UWIs_Geog.head())"
   ]
  },
  {
   "cell_type": "code",
   "execution_count": 16,
   "metadata": {},
   "outputs": [
    {
     "name": "stdout",
     "output_type": "stream",
     "text": [
      "type df_new_cleaned <class 'pandas.core.frame.DataFrame'>\n",
      "df_new_cleaned.head()     SitID        lat         lng                  UWI  TopHelper_HorID  \\\n",
      "0  102496  54.785907 -110.129320  00/12-08-067-01W4/0            14000   \n",
      "1  102497  54.782284 -110.269446  00/07-08-067-02W4/0            14000   \n",
      "2  102498  54.785892 -110.186851  00/09-11-067-02W4/0            14000   \n",
      "3  102500  54.829624 -110.269422  00/10-29-067-02W4/0            14000   \n",
      "4  102501  54.840471 -110.224832  00/06-34-067-02W4/0            14000   \n",
      "\n",
      "   TopTarget_HorID TopHelper_DEPTH TopTarget_DEPTH  TopHelper_HorID_Qual  \\\n",
      "0            13000             561             475                     1   \n",
      "1            13000           604.5             515                     1   \n",
      "2            13000             564             480                     1   \n",
      "3            13000           636.5             549                     1   \n",
      "4            13000             613             529                     1   \n",
      "\n",
      "   TopTarget_Qual  \n",
      "0               3  \n",
      "1               3  \n",
      "2               3  \n",
      "3               3  \n",
      "4               2  \n"
     ]
    }
   ],
   "source": [
    "################# Now to clean the dataframe, rename columns, and merge with the new dataframe that has the neighbors! ##################\n",
    "df_new_cleaned = cleanRenameDF(df_reduced,target, target_base,config,input_data_inst)\n",
    "\n",
    "print(\"type df_new_cleaned\",type(df_new_cleaned))\n",
    "#print(df_new_cleaned)\n",
    "print(\"df_new_cleaned.head()\",df_new_cleaned.head())"
   ]
  },
  {
   "cell_type": "code",
   "execution_count": 17,
   "metadata": {},
   "outputs": [
    {
     "name": "stdout",
     "output_type": "stream",
     "text": [
      "This is how to access the data on nearest neigbhors in the 'Neighbors_Obj' column - df_new_cleaned_plus_nn.loc[1:1,'Neighbors_Obj'][1][1] = {'UWI': '00/06-34-067-02W4/0', 'neighbor': 2, 'distance': 0.07332213830078355}\n",
      "an example of neighbors is : df_new_cleaned_plus_nn.loc[1:2,'Neighbors_Obj'][2] which is =  [{'UWI': '00/12-08-067-01W4/0', 'neighbor': 1, 'distance': 0.05753100195547899}, {'UWI': '00/06-34-067-02W4/0', 'neighbor': 2, 'distance': 0.06649378619088428}, {'UWI': '00/07-08-067-02W4/0', 'neighbor': 3, 'distance': 0.08267376663125782}, {'UWI': '00/09-11-068-02W4/0', 'neighbor': 4, 'distance': 0.08728400165551212}, {'UWI': '00/10-29-067-02W4/0', 'neighbor': 5, 'distance': 0.09343691917544036}, {'UWI': '00/11-08-068-01W4/0', 'neighbor': 6, 'distance': 0.10808166919974113}, {'UWI': '00/10-08-068-02W4/0', 'neighbor': 7, 'distance': 0.12013967631468725}]\n"
     ]
    }
   ],
   "source": [
    "df_new_cleaned_plus_nn = mergeCleanedAndUWIGeog_dfs(df_new_cleaned,UWIs_Geog)\n",
    "\n",
    "print(\"This is how to access the data on nearest neigbhors in the 'Neighbors_Obj' column - df_new_cleaned_plus_nn.loc[1:1,'Neighbors_Obj'][1][1] =\",df_new_cleaned_plus_nn.loc[1:1,'Neighbors_Obj'][1][1])\n",
    "\n",
    "print(\"an example of neighbors is : df_new_cleaned_plus_nn.loc[1:2,'Neighbors_Obj'][2] which is = \",df_new_cleaned_plus_nn.loc[1:2,'Neighbors_Obj'][2])\n"
   ]
  },
  {
   "cell_type": "code",
   "execution_count": null,
   "metadata": {
    "collapsed": true
   },
   "outputs": [],
   "source": []
  },
  {
   "cell_type": "code",
   "execution_count": 18,
   "metadata": {},
   "outputs": [
    {
     "name": "stdout",
     "output_type": "stream",
     "text": [
      "0   NaN\n",
      "Name: NN1_topTarget_DEPTH, dtype: float64\n"
     ]
    },
    {
     "name": "stderr",
     "output_type": "stream",
     "text": [
      "/Users/justingosses/Code/predictatops/predictatops/wellsKNN.py:311: SettingWithCopyWarning: \n",
      "A value is trying to be set on a copy of a slice from a DataFrame.\n",
      "Try using .loc[row_indexer,col_indexer] = value instead\n",
      "\n",
      "See the caveats in the documentation: http://pandas.pydata.org/pandas-docs/stable/indexing.html#indexing-view-versus-copy\n",
      "  df.iloc[eachRow:eachRowP1][newPickColName] = pick_depth\n"
     ]
    },
    {
     "name": "stdout",
     "output_type": "stream",
     "text": [
      "0   NaN\n",
      "Name: NN1_TopHelper_DEPTH, dtype: float64\n",
      "printing first row of df_new2 in wellsKNN_runner.py     SitID        lat        lng                  UWI  TopHelper_HorID  \\\n",
      "0  102496  54.785907 -110.12932  00/12-08-067-01W4/0            14000   \n",
      "\n",
      "   TopTarget_HorID  TopHelper_DEPTH  TopTarget_DEPTH  TopHelper_HorID_Qual  \\\n",
      "0            13000            561.0            475.0                     1   \n",
      "\n",
      "   TopTarget_Qual                                      Neighbors_Obj  \\\n",
      "0               3  [{'UWI': '00/09-11-067-02W4/0', 'neighbor': 1,...   \n",
      "\n",
      "   NN1_topTarget_DEPTH  NN1_TopHelper_DEPTH  NN1_thickness  \\\n",
      "0                544.0                630.0           86.0   \n",
      "\n",
      "   topTarget_Depth_predBy_NN1thick  \n",
      "0                            475.0  \n"
     ]
    }
   ],
   "source": [
    "################# 6 and 7 in the functions below are the 6th and 7th columns... should replace with something more obvious!!!!! ##################\n",
    "df_new_cleaned_plus_nn_temp = broadcastFuncForFindNearestNPickDepth(df_new_cleaned_plus_nn, 7, config.NN1_topTarget_DEPTH, config.UWI)\n",
    "df_new2 = broadcastFuncForFindNearestNPickDepth(df_new_cleaned_plus_nn_temp, 6, config.NN1_TopHelper_DEPTH, config.UWI)\n",
    "\n",
    "\n",
    "df_new3 = useThicknessOfNeighborsToEst(df_new2)\n",
    "\n",
    "print(\"printing first row of df_new2 in wellsKNN_runner.py\",df_new3[0:1])\n"
   ]
  },
  {
   "cell_type": "code",
   "execution_count": 19,
   "metadata": {
    "collapsed": true
   },
   "outputs": [],
   "source": [
    "df_new3 = create_diff_Top_Depth_Real_v_predBy_NN1thick(df_new3)"
   ]
  },
  {
   "cell_type": "code",
   "execution_count": null,
   "metadata": {
    "collapsed": true
   },
   "outputs": [],
   "source": []
  },
  {
   "cell_type": "code",
   "execution_count": 20,
   "metadata": {},
   "outputs": [
    {
     "name": "stdout",
     "output_type": "stream",
     "text": [
      "len(UWI_test) 321\n",
      "UWI_test[0] AA/11-33-094-06W4/0\n",
      "df[config.UWI][0] 00/12-08-067-01W4/0\n",
      "len(df_new) 321\n"
     ]
    }
   ],
   "source": [
    "###### df_new3 has both train and test. That is find for finding neighbors for test wells, but\n",
    "###### for train wells we should only be including information from other train wells. \n",
    "###### it would not be fair to include test well neihbor information in training data!!!\n",
    "###### We'll redo the steps above now but just for training wells. \n",
    "###### Firs though, we'll take what we've build and slice off just the test wells into a new dataframe.\n",
    "\n",
    "df_completed_test = getTestRowsOnlyPicksDF(df_new3,wells_df_from_split,config,\"test\",input_data_inst.well_format)"
   ]
  },
  {
   "cell_type": "code",
   "execution_count": null,
   "metadata": {
    "collapsed": true
   },
   "outputs": [],
   "source": []
  },
  {
   "cell_type": "code",
   "execution_count": 21,
   "metadata": {},
   "outputs": [
    {
     "name": "stdout",
     "output_type": "stream",
     "text": [
      "len(df_just_trainOrMaybeTest) 1041163\n",
      "len(df_just_trainOrMaybeTest['UWI'].unique()) 1280\n",
      "len(wells_df_from_split) 1041163\n",
      "len(df_new ) 2193\n",
      "examples of what the well format looks like in wellsLoaded_list ['00-11-21-077-07W4-0.LAS' '00-07-26-074-05W4-0.LAS'\n",
      " '00-12-19-075-09W4-0.LAS']\n",
      "new_wells_loaded_list_inUWIstyle[5:8] ['00/11-11-080-19W4/0', '00/06-25-082-09W4/0', '00/06-31-067-15W4/0']\n",
      "len(new_wells_loaded_list_inUWIstyle ) 1280\n",
      "len(df_new_allWells) 2193\n",
      "len(df_reduced) 2193\n",
      "UWIs_Geog.head()                    UWI        lat         lng  \\\n",
      "0  00/12-08-067-01W4/0  54.785907 -110.129320   \n",
      "1  00/07-08-067-02W4/0  54.782284 -110.269446   \n",
      "2  00/09-11-067-02W4/0  54.785892 -110.186851   \n",
      "3  00/10-29-067-02W4/0  54.829624 -110.269422   \n",
      "4  00/06-34-067-02W4/0  54.840471 -110.224832   \n",
      "\n",
      "                                       Neighbors_Obj  \n",
      "0  [{'UWI': '00/09-11-067-02W4/0', 'neighbor': 1,...  \n",
      "1  [{'UWI': '00/10-29-067-02W4/0', 'neighbor': 1,...  \n",
      "2  [{'UWI': '00/12-08-067-01W4/0', 'neighbor': 1,...  \n",
      "3  [{'UWI': '00/10-08-068-02W4/0', 'neighbor': 1,...  \n",
      "4  [{'UWI': '00/10-29-067-02W4/0', 'neighbor': 1,...  \n",
      "len(df_new_cleaned_plus_nn) 2193\n",
      "This is how to access the data on nearest neigbhors in the 'Neighbors_Obj' column - df_new_cleaned_plus_nn.loc[1:1,'Neighbors_Obj'][1][1] = {'UWI': '00/06-34-067-02W4/0', 'neighbor': 2, 'distance': 0.07332213830078355}\n",
      "an example of neighbors is : df_new_cleaned_plus_nn.loc[1:2,'Neighbors_Obj'][2] which is =  [{'UWI': '00/12-08-067-01W4/0', 'neighbor': 1, 'distance': 0.05753100195547899}, {'UWI': '00/06-34-067-02W4/0', 'neighbor': 2, 'distance': 0.06649378619088428}, {'UWI': '00/07-08-067-02W4/0', 'neighbor': 3, 'distance': 0.08267376663125782}, {'UWI': '00/09-11-068-02W4/0', 'neighbor': 4, 'distance': 0.08728400165551212}, {'UWI': '00/10-29-067-02W4/0', 'neighbor': 5, 'distance': 0.09343691917544036}, {'UWI': '00/11-08-068-01W4/0', 'neighbor': 6, 'distance': 0.10808166919974113}, {'UWI': '00/10-08-068-02W4/0', 'neighbor': 7, 'distance': 0.12013967631468725}]\n",
      "0   NaN\n",
      "Name: NN1_topTarget_DEPTH, dtype: float64\n"
     ]
    },
    {
     "name": "stderr",
     "output_type": "stream",
     "text": [
      "/Users/justingosses/Code/predictatops/predictatops/wellsKNN.py:311: SettingWithCopyWarning: \n",
      "A value is trying to be set on a copy of a slice from a DataFrame.\n",
      "Try using .loc[row_indexer,col_indexer] = value instead\n",
      "\n",
      "See the caveats in the documentation: http://pandas.pydata.org/pandas-docs/stable/indexing.html#indexing-view-versus-copy\n",
      "  df.iloc[eachRow:eachRowP1][newPickColName] = pick_depth\n"
     ]
    },
    {
     "name": "stdout",
     "output_type": "stream",
     "text": [
      "0   NaN\n",
      "Name: NN1_TopHelper_DEPTH, dtype: float64\n",
      "len(df_new3) 2193\n",
      "printing first row of df_new2 in wellsKNN_runner.py     SitID        lat        lng                  UWI  TopHelper_HorID  \\\n",
      "0  102496  54.785907 -110.12932  00/12-08-067-01W4/0            14000   \n",
      "\n",
      "   TopTarget_HorID  TopHelper_DEPTH  TopTarget_DEPTH  TopHelper_HorID_Qual  \\\n",
      "0            13000            561.0            475.0                     1   \n",
      "\n",
      "   TopTarget_Qual                                      Neighbors_Obj  \\\n",
      "0               3  [{'UWI': '00/09-11-067-02W4/0', 'neighbor': 1,...   \n",
      "\n",
      "   NN1_topTarget_DEPTH  NN1_TopHelper_DEPTH  NN1_thickness  \\\n",
      "0                544.0                630.0           86.0   \n",
      "\n",
      "   topTarget_Depth_predBy_NN1thick  \n",
      "0                            475.0  \n",
      "len(df_new4) 2193\n",
      "len(df_nearly_completed_train) 2193\n",
      "len(UWI_test) 1280\n",
      "UWI_test[0] 00/10-32-080-20W4/0\n",
      "df[config.UWI][0] 00/12-08-067-01W4/0\n",
      "len(df_new) 1280\n",
      "len(df_completed_test) = 321\n",
      "len(df_completed_train) 1280\n",
      "length df_completed_trainAndTest =  1601\n"
     ]
    }
   ],
   "source": [
    "#### okay now lets run the whole thing with just the train wells\n",
    "\n",
    "df_train = onlyWellsInTestPortion(wells_df_from_split,\"train\")\n",
    "\n",
    "df_nearly_completed_train = fullWellsKNN(df_train,input_data_inst,config)\n",
    "print(\"len(df_nearly_completed_train)\",len(df_nearly_completed_train))\n",
    "df_completed_train = getTestRowsOnlyPicksDF(df_nearly_completed_train,df_train,config,\"train\",input_data_inst.well_format)\n",
    "print(\"len(df_completed_test) =\",len(df_completed_test))\n",
    "print(\"len(df_completed_train)\",len(df_completed_train))\n",
    "\n",
    "df_completed_trainAndTest = pd.concat([df_completed_train, df_completed_test])\n",
    "print(\"length df_completed_trainAndTest = \",len(df_completed_trainAndTest))"
   ]
  },
  {
   "cell_type": "markdown",
   "metadata": {},
   "source": [
    "### Examining the resulting dataframe:"
   ]
  },
  {
   "cell_type": "code",
   "execution_count": 22,
   "metadata": {},
   "outputs": [
    {
     "data": {
      "text/html": [
       "<div>\n",
       "<style scoped>\n",
       "    .dataframe tbody tr th:only-of-type {\n",
       "        vertical-align: middle;\n",
       "    }\n",
       "\n",
       "    .dataframe tbody tr th {\n",
       "        vertical-align: top;\n",
       "    }\n",
       "\n",
       "    .dataframe thead th {\n",
       "        text-align: right;\n",
       "    }\n",
       "</style>\n",
       "<table border=\"1\" class=\"dataframe\">\n",
       "  <thead>\n",
       "    <tr style=\"text-align: right;\">\n",
       "      <th></th>\n",
       "      <th>SitID</th>\n",
       "      <th>lat</th>\n",
       "      <th>lng</th>\n",
       "      <th>UWI</th>\n",
       "      <th>TopHelper_HorID</th>\n",
       "      <th>TopTarget_HorID</th>\n",
       "      <th>TopHelper_DEPTH</th>\n",
       "      <th>TopTarget_DEPTH</th>\n",
       "      <th>TopHelper_HorID_Qual</th>\n",
       "      <th>TopTarget_Qual</th>\n",
       "      <th>Neighbors_Obj</th>\n",
       "      <th>NN1_topTarget_DEPTH</th>\n",
       "      <th>NN1_TopHelper_DEPTH</th>\n",
       "      <th>NN1_thickness</th>\n",
       "      <th>topTarget_Depth_predBy_NN1thick</th>\n",
       "      <th>diff_Top_Depth_Real_v_predBy_NN1thick</th>\n",
       "    </tr>\n",
       "  </thead>\n",
       "  <tbody>\n",
       "    <tr>\n",
       "      <th>0</th>\n",
       "      <td>102496</td>\n",
       "      <td>54.785907</td>\n",
       "      <td>-110.129320</td>\n",
       "      <td>00/12-08-067-01W4/0</td>\n",
       "      <td>14000</td>\n",
       "      <td>13000</td>\n",
       "      <td>561.0</td>\n",
       "      <td>475.0</td>\n",
       "      <td>1</td>\n",
       "      <td>3</td>\n",
       "      <td>[{'UWI': '00/09-11-067-02W4/0', 'neighbor': 1,...</td>\n",
       "      <td>544.0</td>\n",
       "      <td>630.0</td>\n",
       "      <td>86.0</td>\n",
       "      <td>475.0</td>\n",
       "      <td>0.0</td>\n",
       "    </tr>\n",
       "    <tr>\n",
       "      <th>1</th>\n",
       "      <td>102497</td>\n",
       "      <td>54.782284</td>\n",
       "      <td>-110.269446</td>\n",
       "      <td>00/07-08-067-02W4/0</td>\n",
       "      <td>14000</td>\n",
       "      <td>13000</td>\n",
       "      <td>604.5</td>\n",
       "      <td>515.0</td>\n",
       "      <td>1</td>\n",
       "      <td>3</td>\n",
       "      <td>[{'UWI': '00/10-29-067-02W4/0', 'neighbor': 1,...</td>\n",
       "      <td>529.0</td>\n",
       "      <td>613.0</td>\n",
       "      <td>84.0</td>\n",
       "      <td>520.5</td>\n",
       "      <td>-5.5</td>\n",
       "    </tr>\n",
       "    <tr>\n",
       "      <th>2</th>\n",
       "      <td>102498</td>\n",
       "      <td>54.785892</td>\n",
       "      <td>-110.186851</td>\n",
       "      <td>00/09-11-067-02W4/0</td>\n",
       "      <td>14000</td>\n",
       "      <td>13000</td>\n",
       "      <td>564.0</td>\n",
       "      <td>480.0</td>\n",
       "      <td>1</td>\n",
       "      <td>3</td>\n",
       "      <td>[{'UWI': '00/12-08-067-01W4/0', 'neighbor': 1,...</td>\n",
       "      <td>529.0</td>\n",
       "      <td>613.0</td>\n",
       "      <td>84.0</td>\n",
       "      <td>480.0</td>\n",
       "      <td>0.0</td>\n",
       "    </tr>\n",
       "    <tr>\n",
       "      <th>3</th>\n",
       "      <td>102500</td>\n",
       "      <td>54.829624</td>\n",
       "      <td>-110.269422</td>\n",
       "      <td>00/10-29-067-02W4/0</td>\n",
       "      <td>14000</td>\n",
       "      <td>13000</td>\n",
       "      <td>636.5</td>\n",
       "      <td>549.0</td>\n",
       "      <td>1</td>\n",
       "      <td>3</td>\n",
       "      <td>[{'UWI': '00/10-08-068-02W4/0', 'neighbor': 1,...</td>\n",
       "      <td>529.0</td>\n",
       "      <td>613.0</td>\n",
       "      <td>84.0</td>\n",
       "      <td>552.5</td>\n",
       "      <td>-3.5</td>\n",
       "    </tr>\n",
       "    <tr>\n",
       "      <th>5</th>\n",
       "      <td>102503</td>\n",
       "      <td>54.771449</td>\n",
       "      <td>-110.402983</td>\n",
       "      <td>00/11-04-067-03W4/0</td>\n",
       "      <td>14000</td>\n",
       "      <td>13000</td>\n",
       "      <td>553.5</td>\n",
       "      <td>488.5</td>\n",
       "      <td>1</td>\n",
       "      <td>2</td>\n",
       "      <td>[{'UWI': '00/10-08-067-03W4/0', 'neighbor': 1,...</td>\n",
       "      <td>493.5</td>\n",
       "      <td>558.0</td>\n",
       "      <td>64.5</td>\n",
       "      <td>489.0</td>\n",
       "      <td>-0.5</td>\n",
       "    </tr>\n",
       "  </tbody>\n",
       "</table>\n",
       "</div>"
      ],
      "text/plain": [
       "    SitID        lat         lng                  UWI  TopHelper_HorID  \\\n",
       "0  102496  54.785907 -110.129320  00/12-08-067-01W4/0            14000   \n",
       "1  102497  54.782284 -110.269446  00/07-08-067-02W4/0            14000   \n",
       "2  102498  54.785892 -110.186851  00/09-11-067-02W4/0            14000   \n",
       "3  102500  54.829624 -110.269422  00/10-29-067-02W4/0            14000   \n",
       "5  102503  54.771449 -110.402983  00/11-04-067-03W4/0            14000   \n",
       "\n",
       "   TopTarget_HorID  TopHelper_DEPTH  TopTarget_DEPTH  TopHelper_HorID_Qual  \\\n",
       "0            13000            561.0            475.0                     1   \n",
       "1            13000            604.5            515.0                     1   \n",
       "2            13000            564.0            480.0                     1   \n",
       "3            13000            636.5            549.0                     1   \n",
       "5            13000            553.5            488.5                     1   \n",
       "\n",
       "   TopTarget_Qual                                      Neighbors_Obj  \\\n",
       "0               3  [{'UWI': '00/09-11-067-02W4/0', 'neighbor': 1,...   \n",
       "1               3  [{'UWI': '00/10-29-067-02W4/0', 'neighbor': 1,...   \n",
       "2               3  [{'UWI': '00/12-08-067-01W4/0', 'neighbor': 1,...   \n",
       "3               3  [{'UWI': '00/10-08-068-02W4/0', 'neighbor': 1,...   \n",
       "5               2  [{'UWI': '00/10-08-067-03W4/0', 'neighbor': 1,...   \n",
       "\n",
       "   NN1_topTarget_DEPTH  NN1_TopHelper_DEPTH  NN1_thickness  \\\n",
       "0                544.0                630.0           86.0   \n",
       "1                529.0                613.0           84.0   \n",
       "2                529.0                613.0           84.0   \n",
       "3                529.0                613.0           84.0   \n",
       "5                493.5                558.0           64.5   \n",
       "\n",
       "   topTarget_Depth_predBy_NN1thick  diff_Top_Depth_Real_v_predBy_NN1thick  \n",
       "0                            475.0                                    0.0  \n",
       "1                            520.5                                   -5.5  \n",
       "2                            480.0                                    0.0  \n",
       "3                            552.5                                   -3.5  \n",
       "5                            489.0                                   -0.5  "
      ]
     },
     "execution_count": 22,
     "metadata": {},
     "output_type": "execute_result"
    }
   ],
   "source": [
    "df_completed_trainAndTest.head()"
   ]
  },
  {
   "cell_type": "code",
   "execution_count": null,
   "metadata": {
    "collapsed": true
   },
   "outputs": [],
   "source": []
  },
  {
   "cell_type": "markdown",
   "metadata": {},
   "source": [
    "#### Save dataframe as hdf"
   ]
  },
  {
   "cell_type": "code",
   "execution_count": null,
   "metadata": {
    "collapsed": true
   },
   "outputs": [],
   "source": [
    "#### Save dataframe as hdf\n",
    "\n",
    "# load_dir = output_data_inst.base_path_for_all_results+ \"/\" + output_data_inst.path_wellsKNN\n",
    "# load_filename = output_data_inst.wellsKNN_results_wells_df+output_data_inst.default_results_file_format\n",
    "# load_results_full_file_path = load_dir+\"/\"+load_filename\n",
    "\n",
    "# df_completed_trainAndTest.to_hdf(load_results_full_file_path, key='df', mode='w')"
   ]
  },
  {
   "cell_type": "code",
   "execution_count": null,
   "metadata": {
    "collapsed": true
   },
   "outputs": [],
   "source": []
  },
  {
   "cell_type": "code",
   "execution_count": null,
   "metadata": {
    "collapsed": true
   },
   "outputs": [],
   "source": []
  },
  {
   "cell_type": "code",
   "execution_count": null,
   "metadata": {
    "collapsed": true
   },
   "outputs": [],
   "source": []
  },
  {
   "cell_type": "code",
   "execution_count": null,
   "metadata": {
    "collapsed": true
   },
   "outputs": [],
   "source": []
  },
  {
   "cell_type": "code",
   "execution_count": null,
   "metadata": {
    "collapsed": true
   },
   "outputs": [],
   "source": []
  },
  {
   "cell_type": "code",
   "execution_count": null,
   "metadata": {
    "collapsed": true
   },
   "outputs": [],
   "source": []
  },
  {
   "cell_type": "code",
   "execution_count": null,
   "metadata": {
    "collapsed": true
   },
   "outputs": [],
   "source": []
  },
  {
   "cell_type": "code",
   "execution_count": null,
   "metadata": {
    "collapsed": true
   },
   "outputs": [],
   "source": []
  },
  {
   "cell_type": "code",
   "execution_count": null,
   "metadata": {
    "collapsed": true
   },
   "outputs": [],
   "source": []
  },
  {
   "cell_type": "code",
   "execution_count": null,
   "metadata": {
    "collapsed": true
   },
   "outputs": [],
   "source": []
  },
  {
   "cell_type": "code",
   "execution_count": null,
   "metadata": {
    "collapsed": true
   },
   "outputs": [],
   "source": []
  }
 ],
 "metadata": {
  "kernelspec": {
   "display_name": "Python 3",
   "language": "python",
   "name": "python3"
  },
  "language_info": {
   "codemirror_mode": {
    "name": "ipython",
    "version": 3
   },
   "file_extension": ".py",
   "mimetype": "text/x-python",
   "name": "python",
   "nbconvert_exporter": "python",
   "pygments_lexer": "ipython3",
   "version": "3.5.2"
  }
 },
 "nbformat": 4,
 "nbformat_minor": 2
}
