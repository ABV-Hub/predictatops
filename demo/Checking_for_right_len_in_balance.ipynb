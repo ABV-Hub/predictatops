{
 "cells": [
  {
   "cell_type": "code",
   "execution_count": 1,
   "metadata": {},
   "outputs": [
    {
     "name": "stdout",
     "output_type": "stream",
     "text": [
      "Junk - experimentation .ipynb        current_errors_TopMcMr_20181006.png\r\n",
      "Junk - experimentation 2.ipynb       \u001b[34mmannville_demo_data\u001b[m\u001b[m/\r\n",
      "Untitled.ipynb                       test junk.ipynb\r\n"
     ]
    }
   ],
   "source": [
    "ls"
   ]
  },
  {
   "cell_type": "code",
   "execution_count": 2,
   "metadata": {},
   "outputs": [
    {
     "name": "stdout",
     "output_type": "stream",
     "text": [
      "/Users/justingosses/Code/predictatops\n"
     ]
    }
   ],
   "source": [
    "cd ..\n"
   ]
  },
  {
   "cell_type": "code",
   "execution_count": 3,
   "metadata": {},
   "outputs": [
    {
     "name": "stdout",
     "output_type": "stream",
     "text": [
      "AAPG_Abstract_2019ACE.md  README.md                 \u001b[34mpredictatops.egg-info\u001b[m\u001b[m/\r\n",
      "AUTHORS.rst               README_0.rst              requirements_dev.txt\r\n",
      "CONTRIBUTING.rst          \u001b[34m__pycache__\u001b[m\u001b[m/              \u001b[34mresults\u001b[m\u001b[m/\r\n",
      "HISTORY.rst               \u001b[34mdata\u001b[m\u001b[m/                     setup.cfg\r\n",
      "LICENSE                   \u001b[34mdemo\u001b[m\u001b[m/                     setup.py\r\n",
      "MANIFEST.in               \u001b[34mdocs\u001b[m\u001b[m/                     \u001b[34mtests\u001b[m\u001b[m/\r\n",
      "Makefile                  \u001b[34mpredictatops\u001b[m\u001b[m/             tox.ini\r\n"
     ]
    }
   ],
   "source": [
    "ls\n"
   ]
  },
  {
   "cell_type": "code",
   "execution_count": 4,
   "metadata": {},
   "outputs": [
    {
     "name": "stdout",
     "output_type": "stream",
     "text": [
      "/Users/justingosses/Code/predictatops/results\n"
     ]
    }
   ],
   "source": [
    "cd results"
   ]
  },
  {
   "cell_type": "code",
   "execution_count": 5,
   "metadata": {},
   "outputs": [
    {
     "name": "stdout",
     "output_type": "stream",
     "text": [
      "\u001b[34mbalance\u001b[m\u001b[m/      \u001b[34mevaluate\u001b[m\u001b[m/     \u001b[34mload\u001b[m\u001b[m/         \u001b[34mprediction\u001b[m\u001b[m/   \u001b[34mtrainclasses\u001b[m\u001b[m/\r\n",
      "\u001b[34mcheckData\u001b[m\u001b[m/    \u001b[34mfeatures\u001b[m\u001b[m/     \u001b[34mmap\u001b[m\u001b[m/          \u001b[34msplit\u001b[m\u001b[m/        \u001b[34mwellKNN\u001b[m\u001b[m/\r\n"
     ]
    }
   ],
   "source": [
    "ls\n"
   ]
  },
  {
   "cell_type": "code",
   "execution_count": 11,
   "metadata": {},
   "outputs": [
    {
     "name": "stdout",
     "output_type": "stream",
     "text": [
      "/Users/justingosses/Code/predictatops/results/balance\n"
     ]
    }
   ],
   "source": [
    "cd balance"
   ]
  },
  {
   "cell_type": "code",
   "execution_count": 12,
   "metadata": {},
   "outputs": [
    {
     "name": "stdout",
     "output_type": "stream",
     "text": [
      "wells_wTopsCurvesSplitsKNNFeaturesBalance.h5\r\n"
     ]
    }
   ],
   "source": [
    "ls"
   ]
  },
  {
   "cell_type": "code",
   "execution_count": 14,
   "metadata": {},
   "outputs": [
    {
     "name": "stderr",
     "output_type": "stream",
     "text": [
      "/Users/justingosses/anaconda/envs/MannvilleDask2/lib/python3.6/importlib/_bootstrap.py:219: RuntimeWarning: numpy.dtype size changed, may indicate binary incompatibility. Expected 96, got 88\n",
      "  return f(*args, **kwds)\n",
      "/Users/justingosses/anaconda/envs/MannvilleDask2/lib/python3.6/importlib/_bootstrap.py:219: RuntimeWarning: numpy.dtype size changed, may indicate binary incompatibility. Expected 96, got 88\n",
      "  return f(*args, **kwds)\n"
     ]
    }
   ],
   "source": [
    "import pandas as pd"
   ]
  },
  {
   "cell_type": "code",
   "execution_count": 17,
   "metadata": {},
   "outputs": [],
   "source": [
    "balance_results = pd.read_hdf('wells_wTopsCurvesSplitsKNNFeaturesBalance.h5',key='preSplitpreBal')"
   ]
  },
  {
   "cell_type": "code",
   "execution_count": 18,
   "metadata": {},
   "outputs": [
    {
     "data": {
      "text/html": [
       "<div>\n",
       "<style scoped>\n",
       "    .dataframe tbody tr th:only-of-type {\n",
       "        vertical-align: middle;\n",
       "    }\n",
       "\n",
       "    .dataframe tbody tr th {\n",
       "        vertical-align: top;\n",
       "    }\n",
       "\n",
       "    .dataframe thead th {\n",
       "        text-align: right;\n",
       "    }\n",
       "</style>\n",
       "<table border=\"1\" class=\"dataframe\">\n",
       "  <thead>\n",
       "    <tr style=\"text-align: right;\">\n",
       "      <th></th>\n",
       "      <th>DEPT</th>\n",
       "      <th>DPHI</th>\n",
       "      <th>GR</th>\n",
       "      <th>ILD</th>\n",
       "      <th>NPHI</th>\n",
       "      <th>UWI</th>\n",
       "      <th>trainOrTest</th>\n",
       "      <th>TopTarget_DEPTH</th>\n",
       "      <th>TopHelper_HorID_Qual</th>\n",
       "      <th>TopTarget_Qual</th>\n",
       "      <th>...</th>\n",
       "      <th>DEPT_min_11winSize_dirAbovenLarge</th>\n",
       "      <th>DEPT_min_11winSize_dirAroundnLarge</th>\n",
       "      <th>DEPT_min_21winSize_dirAroundMin</th>\n",
       "      <th>DEPT_min_21winSize_dirAboveMin</th>\n",
       "      <th>DEPT_min_21winSize_dirAroundMax</th>\n",
       "      <th>DEPT_min_21winSize_dirAboveMax</th>\n",
       "      <th>DEPT_min_21winSize_dirAroundMean</th>\n",
       "      <th>DEPT_min_21winSize_dirAboveMean</th>\n",
       "      <th>DEPT_min_21winSize_dirAbovenLarge</th>\n",
       "      <th>DEPT_min_21winSize_dirAroundnLarge</th>\n",
       "    </tr>\n",
       "  </thead>\n",
       "  <tbody>\n",
       "    <tr>\n",
       "      <th>0</th>\n",
       "      <td>149.602</td>\n",
       "      <td>0.227</td>\n",
       "      <td>102.473</td>\n",
       "      <td>0.000</td>\n",
       "      <td>0.460</td>\n",
       "      <td>00-10-32-080-20W4-0</td>\n",
       "      <td>train</td>\n",
       "      <td>377.95</td>\n",
       "      <td>1.0</td>\n",
       "      <td>3.0</td>\n",
       "      <td>...</td>\n",
       "      <td>149.602</td>\n",
       "      <td>149.602</td>\n",
       "      <td>149.602</td>\n",
       "      <td>149.602</td>\n",
       "      <td>149.602</td>\n",
       "      <td>149.602</td>\n",
       "      <td>149.602</td>\n",
       "      <td>149.602</td>\n",
       "      <td>149.602</td>\n",
       "      <td>149.602</td>\n",
       "    </tr>\n",
       "    <tr>\n",
       "      <th>1</th>\n",
       "      <td>149.852</td>\n",
       "      <td>0.263</td>\n",
       "      <td>122.589</td>\n",
       "      <td>4.202</td>\n",
       "      <td>0.550</td>\n",
       "      <td>00-10-32-080-20W4-0</td>\n",
       "      <td>train</td>\n",
       "      <td>377.95</td>\n",
       "      <td>1.0</td>\n",
       "      <td>3.0</td>\n",
       "      <td>...</td>\n",
       "      <td>149.852</td>\n",
       "      <td>149.852</td>\n",
       "      <td>149.852</td>\n",
       "      <td>149.852</td>\n",
       "      <td>149.852</td>\n",
       "      <td>149.852</td>\n",
       "      <td>149.852</td>\n",
       "      <td>149.852</td>\n",
       "      <td>149.852</td>\n",
       "      <td>149.852</td>\n",
       "    </tr>\n",
       "    <tr>\n",
       "      <th>2</th>\n",
       "      <td>150.102</td>\n",
       "      <td>0.252</td>\n",
       "      <td>120.196</td>\n",
       "      <td>4.643</td>\n",
       "      <td>0.537</td>\n",
       "      <td>00-10-32-080-20W4-0</td>\n",
       "      <td>train</td>\n",
       "      <td>377.95</td>\n",
       "      <td>1.0</td>\n",
       "      <td>3.0</td>\n",
       "      <td>...</td>\n",
       "      <td>150.102</td>\n",
       "      <td>150.102</td>\n",
       "      <td>150.102</td>\n",
       "      <td>150.102</td>\n",
       "      <td>150.102</td>\n",
       "      <td>150.102</td>\n",
       "      <td>150.102</td>\n",
       "      <td>150.102</td>\n",
       "      <td>150.102</td>\n",
       "      <td>150.102</td>\n",
       "    </tr>\n",
       "    <tr>\n",
       "      <th>3</th>\n",
       "      <td>150.352</td>\n",
       "      <td>0.244</td>\n",
       "      <td>115.975</td>\n",
       "      <td>5.280</td>\n",
       "      <td>0.513</td>\n",
       "      <td>00-10-32-080-20W4-0</td>\n",
       "      <td>train</td>\n",
       "      <td>377.95</td>\n",
       "      <td>1.0</td>\n",
       "      <td>3.0</td>\n",
       "      <td>...</td>\n",
       "      <td>150.352</td>\n",
       "      <td>150.352</td>\n",
       "      <td>150.352</td>\n",
       "      <td>150.352</td>\n",
       "      <td>150.352</td>\n",
       "      <td>150.352</td>\n",
       "      <td>150.352</td>\n",
       "      <td>150.352</td>\n",
       "      <td>150.352</td>\n",
       "      <td>150.352</td>\n",
       "    </tr>\n",
       "    <tr>\n",
       "      <th>4</th>\n",
       "      <td>150.602</td>\n",
       "      <td>0.240</td>\n",
       "      <td>109.271</td>\n",
       "      <td>6.592</td>\n",
       "      <td>0.487</td>\n",
       "      <td>00-10-32-080-20W4-0</td>\n",
       "      <td>train</td>\n",
       "      <td>377.95</td>\n",
       "      <td>1.0</td>\n",
       "      <td>3.0</td>\n",
       "      <td>...</td>\n",
       "      <td>150.602</td>\n",
       "      <td>150.602</td>\n",
       "      <td>150.602</td>\n",
       "      <td>150.602</td>\n",
       "      <td>150.602</td>\n",
       "      <td>150.602</td>\n",
       "      <td>150.602</td>\n",
       "      <td>150.602</td>\n",
       "      <td>150.602</td>\n",
       "      <td>150.602</td>\n",
       "    </tr>\n",
       "  </tbody>\n",
       "</table>\n",
       "<p>5 rows × 179 columns</p>\n",
       "</div>"
      ],
      "text/plain": [
       "      DEPT   DPHI       GR    ILD   NPHI                  UWI trainOrTest  \\\n",
       "0  149.602  0.227  102.473  0.000  0.460  00-10-32-080-20W4-0       train   \n",
       "1  149.852  0.263  122.589  4.202  0.550  00-10-32-080-20W4-0       train   \n",
       "2  150.102  0.252  120.196  4.643  0.537  00-10-32-080-20W4-0       train   \n",
       "3  150.352  0.244  115.975  5.280  0.513  00-10-32-080-20W4-0       train   \n",
       "4  150.602  0.240  109.271  6.592  0.487  00-10-32-080-20W4-0       train   \n",
       "\n",
       "   TopTarget_DEPTH  TopHelper_HorID_Qual  TopTarget_Qual  \\\n",
       "0           377.95                   1.0             3.0   \n",
       "1           377.95                   1.0             3.0   \n",
       "2           377.95                   1.0             3.0   \n",
       "3           377.95                   1.0             3.0   \n",
       "4           377.95                   1.0             3.0   \n",
       "\n",
       "                  ...                 DEPT_min_11winSize_dirAbovenLarge  \\\n",
       "0                 ...                                           149.602   \n",
       "1                 ...                                           149.852   \n",
       "2                 ...                                           150.102   \n",
       "3                 ...                                           150.352   \n",
       "4                 ...                                           150.602   \n",
       "\n",
       "   DEPT_min_11winSize_dirAroundnLarge  DEPT_min_21winSize_dirAroundMin  \\\n",
       "0                             149.602                          149.602   \n",
       "1                             149.852                          149.852   \n",
       "2                             150.102                          150.102   \n",
       "3                             150.352                          150.352   \n",
       "4                             150.602                          150.602   \n",
       "\n",
       "   DEPT_min_21winSize_dirAboveMin  DEPT_min_21winSize_dirAroundMax  \\\n",
       "0                         149.602                          149.602   \n",
       "1                         149.852                          149.852   \n",
       "2                         150.102                          150.102   \n",
       "3                         150.352                          150.352   \n",
       "4                         150.602                          150.602   \n",
       "\n",
       "  DEPT_min_21winSize_dirAboveMax  DEPT_min_21winSize_dirAroundMean  \\\n",
       "0                        149.602                           149.602   \n",
       "1                        149.852                           149.852   \n",
       "2                        150.102                           150.102   \n",
       "3                        150.352                           150.352   \n",
       "4                        150.602                           150.602   \n",
       "\n",
       "   DEPT_min_21winSize_dirAboveMean  DEPT_min_21winSize_dirAbovenLarge  \\\n",
       "0                          149.602                            149.602   \n",
       "1                          149.852                            149.852   \n",
       "2                          150.102                            150.102   \n",
       "3                          150.352                            150.352   \n",
       "4                          150.602                            150.602   \n",
       "\n",
       "   DEPT_min_21winSize_dirAroundnLarge  \n",
       "0                             149.602  \n",
       "1                             149.852  \n",
       "2                             150.102  \n",
       "3                             150.352  \n",
       "4                             150.602  \n",
       "\n",
       "[5 rows x 179 columns]"
      ]
     },
     "execution_count": 18,
     "metadata": {},
     "output_type": "execute_result"
    }
   ],
   "source": [
    "balance_results.head()"
   ]
  },
  {
   "cell_type": "code",
   "execution_count": 19,
   "metadata": {},
   "outputs": [
    {
     "data": {
      "text/plain": [
       "1302634"
      ]
     },
     "execution_count": 19,
     "metadata": {},
     "output_type": "execute_result"
    }
   ],
   "source": [
    "len(balance_results)"
   ]
  },
  {
   "cell_type": "code",
   "execution_count": null,
   "metadata": {},
   "outputs": [],
   "source": []
  },
  {
   "cell_type": "code",
   "execution_count": null,
   "metadata": {},
   "outputs": [],
   "source": []
  },
  {
   "cell_type": "code",
   "execution_count": null,
   "metadata": {},
   "outputs": [],
   "source": []
  }
 ],
 "metadata": {
  "kernelspec": {
   "display_name": "Python [conda env:MannvilleDask2]",
   "language": "python",
   "name": "conda-env-MannvilleDask2-py"
  },
  "language_info": {
   "codemirror_mode": {
    "name": "ipython",
    "version": 3
   },
   "file_extension": ".py",
   "mimetype": "text/x-python",
   "name": "python",
   "nbconvert_exporter": "python",
   "pygments_lexer": "ipython3",
   "version": "3.6.6"
  }
 },
 "nbformat": 4,
 "nbformat_minor": 2
}
