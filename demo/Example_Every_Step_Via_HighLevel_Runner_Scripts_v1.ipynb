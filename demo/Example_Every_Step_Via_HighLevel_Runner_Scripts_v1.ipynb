{
 "cells": [
  {
   "cell_type": "markdown",
   "metadata": {},
   "source": [
    "# Going through whole Predictatop Pipeline Using the runner scripts for each step"
   ]
  },
  {
   "cell_type": "markdown",
   "metadata": {},
   "source": [
    "### Predictatops is organized into steps of a data processing, model building, prediction pipeline. Each step can be run as a separate Python module or via a one line call to a runner script with sensible defaults and ordering of function calls.\n"
   ]
  },
  {
   "cell_type": "markdown",
   "metadata": {},
   "source": [
    "### In this notebook, we're only using the runner scripts, <i>in other words, load_runner.py instead of load.py.</i>"
   ]
  },
  {
   "cell_type": "markdown",
   "metadata": {},
   "source": [
    "<hr/>"
   ]
  },
  {
   "cell_type": "markdown",
   "metadata": {},
   "source": [
    "First, it should be noted that Predictatops isn't on Pypy, so we're going to be loading the Python modules from a local directory and this notebook is running from the demo folder in the same Predictatops directory. If you run it from elsewhere, you'll have to change the paths. The lines below navigate to the right place and run using the default dataset from the McMurray Formation."
   ]
  },
  {
   "cell_type": "code",
   "execution_count": 1,
   "metadata": {},
   "outputs": [
    {
     "name": "stdout",
     "output_type": "stream",
     "text": [
      "Example_2_creating_facies_prediction_dataset_forRockhound_using_module_features.ipynb\r\n",
      "Example_Every_Step_Via_HighLevel_Runner_Scripts_v1.ipynb\r\n",
      "Example_creating_dataset_forRockhound_using_module_features_v1.ipynb\r\n",
      "Example_firstSteps_modules_fetchdata_configuration_checkdata.ipynb\r\n",
      "Example_junk_post_balance.ipynb\r\n",
      "Example_module_all_runner_temp_v1b.ipynb\r\n",
      "Example_module_balance_v1.ipynb\r\n",
      "Example_module_predictionclasses_v1.ipynb\r\n",
      "Example_module_trainclasses_v2.ipynb\r\n",
      "Example_module_wellsKNN_v1.ipynb\r\n",
      "README.md\r\n",
      "current_errors_TopMcMr_20181006.png\r\n",
      "\u001b[34mmannville_demo_data\u001b[m\u001b[m/\r\n",
      "mannville_demo_data.zip\r\n"
     ]
    }
   ],
   "source": [
    "ls"
   ]
  },
  {
   "cell_type": "code",
   "execution_count": 2,
   "metadata": {},
   "outputs": [
    {
     "name": "stdout",
     "output_type": "stream",
     "text": [
      "/Users/justingosses/Code/predictatops\n"
     ]
    }
   ],
   "source": [
    "cd .."
   ]
  },
  {
   "cell_type": "code",
   "execution_count": 3,
   "metadata": {},
   "outputs": [
    {
     "name": "stdout",
     "output_type": "stream",
     "text": [
      "/Users/justingosses/Code/predictatops/predictatops\n"
     ]
    }
   ],
   "source": [
    "cd predictatops/"
   ]
  },
  {
   "cell_type": "code",
   "execution_count": 4,
   "metadata": {},
   "outputs": [
    {
     "name": "stdout",
     "output_type": "stream",
     "text": [
      "__init__.py                       load_runner.py\r\n",
      "\u001b[34m__pycache__\u001b[m\u001b[m/                      main.py\r\n",
      "all_runner.py                     map.py\r\n",
      "balance.py                        plot.py\r\n",
      "balance_runner.py                 plot_runner.py\r\n",
      "checkdata.py                      predictionclasses.py\r\n",
      "checkdata_runner.py               predictionclasses_runner.py\r\n",
      "cli.py                            registry.txt\r\n",
      "configurationplusfiles.py         split.py\r\n",
      "configurationplusfiles_runner.py  split_runner.py\r\n",
      "\u001b[34mdask-worker-space\u001b[m\u001b[m/                trainclasses.py\r\n",
      "features.py                       trainclasses_runner.py\r\n",
      "features_runner.py                wellsKNN.py\r\n",
      "fetch_demo_data.py                wellsKNN_runner.py\r\n",
      "load.py\r\n"
     ]
    }
   ],
   "source": [
    "ls"
   ]
  },
  {
   "cell_type": "markdown",
   "metadata": {},
   "source": [
    "<hr/>"
   ]
  },
  {
   "cell_type": "markdown",
   "metadata": {},
   "source": [
    "Most of the imports are down in the scripts we'll be calling, but one that is require is system"
   ]
  },
  {
   "cell_type": "code",
   "execution_count": null,
   "metadata": {},
   "outputs": [],
   "source": [
    "from os import system"
   ]
  },
  {
   "cell_type": "markdown",
   "metadata": {},
   "source": [
    "<hr/>"
   ]
  },
  {
   "cell_type": "markdown",
   "metadata": {},
   "source": [
    "#### WARNING:"
   ]
  },
  {
   "cell_type": "markdown",
   "metadata": {},
   "source": [
    "Before you go on, please be away that this will generated a lot of new data saved in .h5 files, several GB work. A .h5 file is saved after each step.  If your computer is close to running out of memmory, it could fill it up. One option to avoid that is to delete each file saved from 2 steps back or to delete all the previous h5 files except for the one you're currently working on."
   ]
  },
  {
   "cell_type": "markdown",
   "metadata": {},
   "source": [
    "<hr/>"
   ]
  },
  {
   "cell_type": "markdown",
   "metadata": {},
   "source": [
    "### First, we'll see if the default dataset is already imported and in our local directory for data as defined in the configuration"
   ]
  },
  {
   "cell_type": "code",
   "execution_count": null,
   "metadata": {},
   "outputs": [],
   "source": [
    "from fetch_demo_data import *"
   ]
  },
  {
   "cell_type": "markdown",
   "metadata": {},
   "source": [
    "### Next, we'll run the configurationplusfiles_runner.py file and establish configuration objects that we'll use later"
   ]
  },
  {
   "cell_type": "code",
   "execution_count": 5,
   "metadata": {},
   "outputs": [
    {
     "name": "stderr",
     "output_type": "stream",
     "text": [
      "/Users/justingosses/anaconda/envs/predictatops/lib/python3.6/importlib/_bootstrap.py:219: RuntimeWarning: numpy.dtype size changed, may indicate binary incompatibility. Expected 96, got 88\n",
      "  return f(*args, **kwds)\n",
      "/Users/justingosses/anaconda/envs/predictatops/lib/python3.6/importlib/_bootstrap.py:219: RuntimeWarning: numpy.dtype size changed, may indicate binary incompatibility. Expected 96, got 88\n",
      "  return f(*args, **kwds)\n"
     ]
    },
    {
     "name": "stdout",
     "output_type": "stream",
     "text": [
      "head of picks df =      SitID  HorID      Pick  Quality\n",
      "0  102496   1000       321        1\n",
      "1  102496   2000                 -1\n",
      "2  102496   3000                 -1\n",
      "3  102496   4000                 -1\n",
      "4  102496   5000       438        2\n",
      "making base folder for results in: ../results_higherBlanceAndLowerWindows_20190517\n",
      "base_path directory already exists, ../results_higherBlanceAndLowerWindows_20190517  so not creating it again. This may or may not be what you intended, so just flagging it.\n",
      "directory  checkData  already exists so not making it again in make_all_directories function of configurationplusfiles.py\n",
      "directory  load  already exists so not making it again in make_all_directories function of configurationplusfiles.py\n",
      "directory  split  already exists so not making it again in make_all_directories function of configurationplusfiles.py\n",
      "directory  wellsKNN  already exists so not making it again in make_all_directories function of configurationplusfiles.py\n",
      "directory  features  already exists so not making it again in make_all_directories function of configurationplusfiles.py\n",
      "directory  balance  already exists so not making it again in make_all_directories function of configurationplusfiles.py\n",
      "directory  trainclasses  already exists so not making it again in make_all_directories function of configurationplusfiles.py\n",
      "directory  prediction  already exists so not making it again in make_all_directories function of configurationplusfiles.py\n",
      "directory  evaluate  already exists so not making it again in make_all_directories function of configurationplusfiles.py\n",
      "directory  map  already exists so not making it again in make_all_directories function of configurationplusfiles.py\n",
      "made directories for each step in the process. They should be in :  ../results_higherBlanceAndLowerWindows_20190517\n",
      "must have curve list is:  ['ILD', 'NPHI', 'GR', 'DPHI', 'DEPT']\n",
      "set must_have_tops_list as:  [13000, 14000]\n",
      " set self.top_name_col_in_picks_df as:  HorID\n",
      "config.siteID_col_in_picks_df =  SitID\n",
      "all config is {'csv_of_well_names_wTopsCuves__name': '', 'csv_of_well_names_wTopCurves__path': '.', 'must_have_curves_list': ['ILD', 'NPHI', 'GR', 'DPHI', 'DEPT'], 'curve_windows_for_rolling_features': [5, 7, 11, 21], 'must_have_tops__list': [13000, 14000], 'target_top': 13000, 'top_under_target': 14000, 'top_name_col_in_picks_df': 'HorID', 'siteID_col_in_picks_df': 'SitID', 'UWI': 'UWI', 'DEPTH_col_in_featureCreation': 'DEPT', 'HorID_name_col_in_picks_df': 'HorID', 'quality_col_name_in_picks_df': 'Quality', 'picks_depth_col_in_picks_df': 'Pick', 'col_topTarget_Depth_predBy_NN1thick': 'topTarget_Depth_predBy_NN1thick', 'quality_items_to_skip__list': [-1, 0], 'test': 'test0', 'pick_class_str': 'TopTarget_Pick_pred', 'threshold_returnCurvesThatArePresentInThisManyWells': 2000, 'max_numb_wells_to_load': 1000000, 'split_traintest_percent': 0.8, 'kdtree_leaf': 2, 'kdtree_k': 8, 'rebalanceClassZeroMultiplier': 120, 'rebalanceClass95Multiplier': 60, 'NN1_topTarget_DEPTH': 'NN1_topTarget_DEPTH', 'NN1_TopHelper_DEPTH': 'NN1_TopHelper_DEPTH', 'trainOrTest': 'trainOrTest', 'colsToNotTurnToFloats': ['UWI', 'SitID', 'trainOrTest', 'Neighbors_Obj'], 'zonesAroundTops': {'100': [0], '95': [-0.5, 0.5], '60': [-5, 0.5], '70': [0.5, 5], '0': []}, 'columns_to_not_trainOn_andNotCurves': ['FromBotWell', 'FromTopWelrowsToEdge', 'lat', 'lng', 'SitID', 'TopHelper_HorID', 'TopTarget_HorID', 'TopHelper_DEPTH', 'diff_Top_Depth_Real_v_predBy_NN1thick', 'diff_TopTarget_DEPTH_v_rowDEPT', 'diff_TopHelper_DEPTH_v_rowDEPT', 'class_DistFrPick_TopHelper', 'NewWell', 'LastBitWell', 'TopWellDept', 'BotWellDept', 'WellThickness', 'rowsToEdge', 'closTopBotDist', 'closerToBotOrTop', 'Neighbors_Obj'], 'columns_to_not_trainOn_andAreCurves': ['RHOB', 'SP', 'CALI', 'COND', 'DELT', 'DENS', 'DPHI:1', 'DPHI:2', 'DT', 'GR:1', 'GR:2', 'IL', 'ILD:1', 'ILD:2', 'ILM', 'LITH', 'LLD', 'LLS', 'PHID', 'PHIN', 'RESD', 'RT', 'SFL', 'SFLU', 'SN', 'SNP', 'Sp'], 'columns_to_use_as_labels': ['class_DistFrPick_TopTarget', 'UWI', 'trainOrTest', 'TopTarget_DEPTH']}\n"
     ]
    }
   ],
   "source": [
    "from configurationplusfiles_runner import input_data_inst, config, output_data_inst\n"
   ]
  },
  {
   "cell_type": "markdown",
   "metadata": {},
   "source": [
    "### checkdata.py and checkdata_runner.py is used to see what well log curves and tops are available and limit the wells used to the ones that have the data we specify"
   ]
  },
  {
   "cell_type": "code",
   "execution_count": null,
   "metadata": {},
   "outputs": [],
   "source": [
    "from checkdata_runner import checkdata_path_results"
   ]
  },
  {
   "cell_type": "markdown",
   "metadata": {},
   "source": [
    "### Load.py & load_runner.py are used to load the data for the wells we found met our needs using checkdata.py"
   ]
  },
  {
   "cell_type": "code",
   "execution_count": null,
   "metadata": {},
   "outputs": [],
   "source": [
    "import load_runner"
   ]
  },
  {
   "cell_type": "markdown",
   "metadata": {},
   "source": [
    "### Split_runner.py is used to split the wells into training and test wells. We want to do this before we create any features to avoid leaking information from train into test"
   ]
  },
  {
   "cell_type": "code",
   "execution_count": null,
   "metadata": {},
   "outputs": [],
   "source": [
    "import split_runner"
   ]
  },
  {
   "cell_type": "markdown",
   "metadata": {},
   "source": [
    "### wellsKNN_runner.py finds the nearest neighbor wells for each well, finds the depth of the top we're trying to predict in the training wells adn then uses that to create some basic features"
   ]
  },
  {
   "cell_type": "code",
   "execution_count": null,
   "metadata": {},
   "outputs": [],
   "source": [
    "import wellsKNN_runner"
   ]
  },
  {
   "cell_type": "markdown",
   "metadata": {},
   "source": [
    "### features_runner.py creates the rest of our features"
   ]
  },
  {
   "cell_type": "code",
   "execution_count": null,
   "metadata": {},
   "outputs": [],
   "source": [
    "import features_runner"
   ]
  },
  {
   "cell_type": "markdown",
   "metadata": {},
   "source": [
    "### balance_runner.py rebalances the classes in the training dataset. Our classes we're made that we'll try to predict are very unbalanced. If we kept them as they are, we'd be good at predicting wihich depth points in each well are far away from the top but poor at predicting the actual top depth."
   ]
  },
  {
   "cell_type": "code",
   "execution_count": null,
   "metadata": {},
   "outputs": [],
   "source": [
    "import balance_runner"
   ]
  },
  {
   "cell_type": "markdown",
   "metadata": {},
   "source": [
    "### trainclasses_runner. used scikit-learn and XGBoost to train a machine-learning model"
   ]
  },
  {
   "cell_type": "code",
   "execution_count": null,
   "metadata": {},
   "outputs": [],
   "source": [
    "import trainclasses_runner"
   ]
  },
  {
   "cell_type": "markdown",
   "metadata": {},
   "source": [
    "### predictionclasses_runner takes the model generated from the training dataset and uses it to make predictions for the test dataset. Those predictions are then evaluated to get a root mean square error (RMSE) and R2 value for the prediction."
   ]
  },
  {
   "cell_type": "code",
   "execution_count": 6,
   "metadata": {},
   "outputs": [
    {
     "name": "stdout",
     "output_type": "stream",
     "text": [
      "the model imported is: XGBClassifier(base_score=0.5, booster='gbtree', colsample_bylevel=1,\n",
      "       colsample_bytree=1, gamma=0, learning_rate=0.1, max_delta_step=0,\n",
      "       max_depth=3, min_child_weight=1, missing=nan, n_estimators=100,\n",
      "       n_gpus=0, n_jobs=-1, nthread=None, num_class=5,\n",
      "       objective='multi:softprob', random_state=0, reg_alpha=0,\n",
      "       reg_lambda=1, scale_pos_weight=1, seed=None, silent=True,\n",
      "       subsample=1)\n"
     ]
    },
    {
     "name": "stderr",
     "output_type": "stream",
     "text": [
      "/Users/justingosses/anaconda/envs/predictatops/lib/python3.6/site-packages/sklearn/preprocessing/label.py:151: DeprecationWarning: The truth value of an empty array is ambiguous. Returning False, but in future this will result in an error. Use `array.size > 0` to check that an array is not empty.\n",
      "  if diff:\n"
     ]
    },
    {
     "name": "stdout",
     "output_type": "stream",
     "text": [
      "accuracy of training dataset 0.845268885171085\n"
     ]
    },
    {
     "name": "stderr",
     "output_type": "stream",
     "text": [
      "/Users/justingosses/anaconda/envs/predictatops/lib/python3.6/site-packages/sklearn/preprocessing/label.py:151: DeprecationWarning: The truth value of an empty array is ambiguous. Returning False, but in future this will result in an error. Use `array.size > 0` to check that an array is not empty.\n",
      "  if diff:\n"
     ]
    },
    {
     "name": "stdout",
     "output_type": "stream",
     "text": [
      "accuracy of test dataset 0.9184066168540459\n",
      "loaded model into object instance\n",
      " eventually there will some sort of help printed here to explain this function more and how it is envisioned you wil run it. In other words, step 1, step 2, etc.\n"
     ]
    },
    {
     "name": "stderr",
     "output_type": "stream",
     "text": [
      "/Users/justingosses/anaconda/envs/predictatops/lib/python3.6/site-packages/sklearn/preprocessing/label.py:151: DeprecationWarning: The truth value of an empty array is ambiguous. Returning False, but in future this will result in an error. Use `array.size > 0` to check that an array is not empty.\n",
      "  if diff:\n"
     ]
    },
    {
     "name": "stdout",
     "output_type": "stream",
     "text": [
      "ran predict_from_model() which runs inside self.result_df_dist_class_prediction = model.predict(df_X_toPredict) access the results by appending .result_df_dist_class_prediction to the class instance\n",
      "<class 'numpy.ndarray'>\n",
      "<class 'numpy.ndarray'>\n",
      "in concat_step2, type of df_results_trainOrtest_wIndex= <class 'pandas.core.frame.DataFrame'>\n",
      "type(idx) <class 'pandas.core.frame.DataFrame'>\n",
      "distClassDF_wRollingCols_training.head() =    class_DistFrPick_TopTarget TopTarget_Pick_pred class_DistFrPick_TopTarget  \\\n",
      "0                          0                   0                          0   \n",
      "1                          0                   0                          0   \n",
      "2                          0                   0                          0   \n",
      "3                          0                   0                          0   \n",
      "4                          0                   0                          0   \n",
      "\n",
      "                   UWI trainOrTest  TopTarget_DEPTH     DEPT  \\\n",
      "0  00-10-32-080-20W4-0       train           377.95  149.602   \n",
      "1  00-10-32-080-20W4-0       train           377.95  149.852   \n",
      "2  00-10-32-080-20W4-0       train           377.95  150.102   \n",
      "3  00-10-32-080-20W4-0       train           377.95  150.352   \n",
      "4  00-10-32-080-20W4-0       train           377.95  150.602   \n",
      "\n",
      "   NN1_TopHelper_DEPTH  NN1_thickness  topTarget_Depth_predBy_NN1thick  \\\n",
      "0                414.0           25.0                           359.66   \n",
      "1                414.0           25.0                           359.66   \n",
      "2                414.0           25.0                           359.66   \n",
      "3                414.0           25.0                           359.66   \n",
      "4                414.0           25.0                           359.66   \n",
      "\n",
      "   DistFrom_NN1ThickPredTopDepth_toRowDept  \\\n",
      "0                                  210.058   \n",
      "1                                  209.808   \n",
      "2                                  209.558   \n",
      "3                                  209.308   \n",
      "4                                  209.058   \n",
      "\n",
      "   TopTarget_Pick_pred_classRollMean5  TopTarget_Pick_pred_classRollMean7  \\\n",
      "0                                 0.0                                 0.0   \n",
      "1                                 0.0                                 0.0   \n",
      "2                                 0.0                                 0.0   \n",
      "3                                 0.0                                 0.0   \n",
      "4                                 0.0                                 0.0   \n",
      "\n",
      "   TopTarget_Pick_pred_classRollMean11  TopTarget_Pick_pred_classRollMean21  \\\n",
      "0                                  0.0                                  0.0   \n",
      "1                                  0.0                                  0.0   \n",
      "2                                  0.0                                  0.0   \n",
      "3                                  0.0                                  0.0   \n",
      "4                                  0.0                                  0.0   \n",
      "\n",
      "   TopTarget_Pick_predclassRollMeanSum  TopTarget_Pick_pred_DEPT_pred  \\\n",
      "0                                  0.0                        358.352   \n",
      "1                                  0.0                        358.352   \n",
      "2                                  0.0                        358.352   \n",
      "3                                  0.0                        358.352   \n",
      "4                                  0.0                        358.352   \n",
      "\n",
      "   TopTarget_Pick_pred_classRollMeanSum  \n",
      "0                            461.428571  \n",
      "1                            461.428571  \n",
      "2                            461.428571  \n",
      "3                            461.428571  \n",
      "4                            461.428571  \n",
      "printing distClassDF_wRollingCols_training for checking that it makes sense::         class_DistFrPick_TopTarget TopTarget_Pick_pred  \\\n",
      "1379543                         95                  95   \n",
      "1379544                         95                  95   \n",
      "1379545                         95                  95   \n",
      "1379546                         95                  95   \n",
      "1379547                         95                  95   \n",
      "\n",
      "        class_DistFrPick_TopTarget                  UWI trainOrTest  \\\n",
      "1379543                         95  00-10-35-081-15W4-0       train   \n",
      "1379544                         95  00-10-35-081-15W4-0       train   \n",
      "1379545                         95  00-10-35-081-15W4-0       train   \n",
      "1379546                         95  00-10-35-081-15W4-0       train   \n",
      "1379547                         95  00-10-35-081-15W4-0       train   \n",
      "\n",
      "         TopTarget_DEPTH    DEPT  NN1_TopHelper_DEPTH  NN1_thickness  \\\n",
      "1379543            321.0  320.75                323.5           23.0   \n",
      "1379544            321.0  321.25                323.5           23.0   \n",
      "1379545            321.0  320.50                323.5           23.0   \n",
      "1379546            321.0  320.75                323.5           23.0   \n",
      "1379547            321.0  321.25                323.5           23.0   \n",
      "\n",
      "         topTarget_Depth_predBy_NN1thick  \\\n",
      "1379543                            325.0   \n",
      "1379544                            325.0   \n",
      "1379545                            325.0   \n",
      "1379546                            325.0   \n",
      "1379547                            325.0   \n",
      "\n",
      "         DistFrom_NN1ThickPredTopDepth_toRowDept  \\\n",
      "1379543                                     4.25   \n",
      "1379544                                     3.75   \n",
      "1379545                                     4.50   \n",
      "1379546                                     4.25   \n",
      "1379547                                     3.75   \n",
      "\n",
      "         TopTarget_Pick_pred_classRollMean5  \\\n",
      "1379543                                76.0   \n",
      "1379544                                76.0   \n",
      "1379545                                 0.0   \n",
      "1379546                                 0.0   \n",
      "1379547                                 0.0   \n",
      "\n",
      "         TopTarget_Pick_pred_classRollMean7  \\\n",
      "1379543                           67.857143   \n",
      "1379544                           81.428571   \n",
      "1379545                            0.000000   \n",
      "1379546                            0.000000   \n",
      "1379547                            0.000000   \n",
      "\n",
      "         TopTarget_Pick_pred_classRollMean11  \\\n",
      "1379543                                  0.0   \n",
      "1379544                                  0.0   \n",
      "1379545                                  0.0   \n",
      "1379546                                  0.0   \n",
      "1379547                                  0.0   \n",
      "\n",
      "         TopTarget_Pick_pred_classRollMean21  \\\n",
      "1379543                                  0.0   \n",
      "1379544                                  0.0   \n",
      "1379545                                  0.0   \n",
      "1379546                                  0.0   \n",
      "1379547                                  0.0   \n",
      "\n",
      "         TopTarget_Pick_predclassRollMeanSum  TopTarget_Pick_pred_DEPT_pred  \\\n",
      "1379543                           238.857143                         315.25   \n",
      "1379544                           252.428571                         315.25   \n",
      "1379545                            95.000000                         315.25   \n",
      "1379546                            95.000000                         315.25   \n",
      "1379547                            95.000000                         315.25   \n",
      "\n",
      "         TopTarget_Pick_pred_classRollMeanSum  \n",
      "1379543                            459.787879  \n",
      "1379544                            459.787879  \n",
      "1379545                            459.787879  \n",
      "1379546                            459.787879  \n",
      "1379547                            459.787879  \n",
      "loaded model into object instance\n"
     ]
    },
    {
     "name": "stderr",
     "output_type": "stream",
     "text": [
      "/Users/justingosses/anaconda/envs/predictatops/lib/python3.6/site-packages/sklearn/preprocessing/label.py:151: DeprecationWarning: The truth value of an empty array is ambiguous. Returning False, but in future this will result in an error. Use `array.size > 0` to check that an array is not empty.\n",
      "  if diff:\n"
     ]
    },
    {
     "name": "stdout",
     "output_type": "stream",
     "text": [
      "ran predict_from_model() which runs inside self.result_df_dist_class_prediction = model.predict(df_X_toPredict) access the results by appending .result_df_dist_class_prediction to the class instance\n",
      "<class 'numpy.ndarray'>\n",
      "<class 'numpy.ndarray'>\n",
      "in concat_step2, type of df_results_trainOrtest_wIndex= <class 'pandas.core.frame.DataFrame'>\n",
      "type of dist_class_pred_df <class 'pandas.core.frame.DataFrame'>\n",
      "type of self.df_results_trainOrtest_wIndex <class 'pandas.core.frame.DataFrame'>\n",
      "type(idx) <class 'pandas.core.frame.DataFrame'>\n",
      "distClassDF_wRollingCols_testData.head()   class_DistFrPick_TopTarget TopTarget_Pick_pred class_DistFrPick_TopTarget  \\\n",
      "0                          0                   0                          0   \n",
      "1                          0                   0                          0   \n",
      "2                          0                   0                          0   \n",
      "3                          0                   0                          0   \n",
      "4                          0                   0                          0   \n",
      "\n",
      "                   UWI trainOrTest  TopTarget_DEPTH     DEPT  \\\n",
      "0  00-11-11-080-19W4-0        test           364.54  185.928   \n",
      "1  00-11-11-080-19W4-0        test           364.54  186.178   \n",
      "2  00-11-11-080-19W4-0        test           364.54  186.428   \n",
      "3  00-11-11-080-19W4-0        test           364.54  186.678   \n",
      "4  00-11-11-080-19W4-0        test           364.54  186.928   \n",
      "\n",
      "   NN1_TopHelper_DEPTH  NN1_thickness  topTarget_Depth_predBy_NN1thick  \\\n",
      "0               359.97           1.53                           365.14   \n",
      "1               359.97           1.53                           365.14   \n",
      "2               359.97           1.53                           365.14   \n",
      "3               359.97           1.53                           365.14   \n",
      "4               359.97           1.53                           365.14   \n",
      "\n",
      "   DistFrom_NN1ThickPredTopDepth_toRowDept  \\\n",
      "0                                  179.212   \n",
      "1                                  178.962   \n",
      "2                                  178.712   \n",
      "3                                  178.462   \n",
      "4                                  178.212   \n",
      "\n",
      "   TopTarget_Pick_pred_classRollMean5  TopTarget_Pick_pred_classRollMean7  \\\n",
      "0                                 0.0                                 0.0   \n",
      "1                                 0.0                                 0.0   \n",
      "2                                 0.0                                 0.0   \n",
      "3                                 0.0                                 0.0   \n",
      "4                                 0.0                                 0.0   \n",
      "\n",
      "   TopTarget_Pick_pred_classRollMean11  TopTarget_Pick_pred_classRollMean21  \\\n",
      "0                                  0.0                                  0.0   \n",
      "1                                  0.0                                  0.0   \n",
      "2                                  0.0                                  0.0   \n",
      "3                                  0.0                                  0.0   \n",
      "4                                  0.0                                  0.0   \n",
      "\n",
      "   TopTarget_Pick_predclassRollMeanSum  TopTarget_Pick_pred_DEPT_pred  \\\n",
      "0                                  0.0                        347.928   \n",
      "1                                  0.0                        347.928   \n",
      "2                                  0.0                        347.928   \n",
      "3                                  0.0                        347.928   \n",
      "4                                  0.0                        347.928   \n",
      "\n",
      "   TopTarget_Pick_pred_classRollMeanSum  \n",
      "0                                 475.0  \n",
      "1                                 475.0  \n",
      "2                                 475.0  \n",
      "3                                 475.0  \n",
      "4                                 475.0  \n",
      "vs {'depth_str': 'DEPT', 'pick_class_str': 'TopTarget_Pick_pred', 'UWI_str': 'UWI', 'rollingWindows': [5, 7, 11, 21], 'distClassIntegersArray': ['100', '95', '60', '70', '0']}\n",
      "gap\n",
      "vs DEPT\n",
      "hit pass in optionallyExcludeWellsWithoutStrongPredictions()\n",
      "1\n",
      "2\n",
      "4\n",
      "<class 'pandas.core.frame.DataFrame'>\n",
      "<class 'pandas.core.series.Series'>\n",
      "<class 'pandas.core.frame.DataFrame'>\n",
      "<class 'pandas.core.series.Series'>\n",
      "<class 'str'>\n",
      "<class 'str'>\n",
      "len(df_calc_pred_Top_Pick_pred_DEPT_pred 1280\n",
      "r2 of training dataset in terms of pick depths =  0.8489790291785806\n",
      "mean_absolute_error_ of training dataset in terms of pick depths =  15.185795312499966\n",
      "percent of wells kept because they weren't just class zero in rollToWell function for training: 1.0\n",
      "hit pass in optionallyExcludeWellsWithoutStrongPredictions()\n",
      "1\n",
      "2\n",
      "4\n",
      "<class 'pandas.core.frame.DataFrame'>\n",
      "<class 'pandas.core.series.Series'>\n",
      "<class 'pandas.core.frame.DataFrame'>\n",
      "<class 'pandas.core.series.Series'>\n",
      "<class 'str'>\n",
      "<class 'str'>\n",
      "r2 for test and all wells kept is: 0.9262087442840818\n",
      "mean_absolute_error_test for test and all wells kept is: 14.300109034268148\n",
      "percent wells kept for test and all wells kept is: 1.0\n",
      "hit yes in optionallyExcludeWellsWithoutStrongPredictions()\n",
      "1\n",
      "2\n",
      "4\n",
      "<class 'pandas.core.frame.DataFrame'>\n",
      "<class 'pandas.core.series.Series'>\n",
      "<class 'pandas.core.frame.DataFrame'>\n",
      "<class 'pandas.core.series.Series'>\n",
      "<class 'str'>\n",
      "<class 'str'>\n",
      "r2 for test and wells excluded that only had zero class predicted is: 0.9933694120664285\n",
      "mean_absolute_error_test for test and wells excluded that only had zero class predicted is: 7.500379194631151\n",
      "percent wells kept for test and wells excluded that only had zero class predicted is: 0.9283489096573209\n",
      "number of wells with only zeros predicted that were thrown out: 23.0\n"
     ]
    },
    {
     "data": {
      "image/png": "[encoded data removed]",
      "text/plain": [
       "<Figure size 1080x360 with 1 Axes>"
      ]
     },
     "metadata": {},
     "output_type": "display_data"
    },
    {
     "data": {
      "image/png": "[encoded data removed]",
      "text/plain": [
       "<Figure size 1080x360 with 1 Axes>"
      ]
     },
     "metadata": {},
     "output_type": "display_data"
    },
    {
     "data": {
      "image/png": "[encoded data removed]",
      "text/plain": [
       "<Figure size 1080x360 with 1 Axes>"
      ]
     },
     "metadata": {},
     "output_type": "display_data"
    }
   ],
   "source": [
    "import predictionclasses_runner"
   ]
  },
  {
   "cell_type": "code",
   "execution_count": null,
   "metadata": {},
   "outputs": [],
   "source": []
  },
  {
   "cell_type": "code",
   "execution_count": null,
   "metadata": {},
   "outputs": [],
   "source": []
  },
  {
   "cell_type": "code",
   "execution_count": null,
   "metadata": {},
   "outputs": [],
   "source": []
  }
 ],
 "metadata": {
  "anaconda-cloud": {},
  "kernelspec": {
   "display_name": "Python [conda env:predictatops] *",
   "language": "python",
   "name": "conda-env-predictatops-py"
  },
  "language_info": {
   "codemirror_mode": {
    "name": "ipython",
    "version": 3
   },
   "file_extension": ".py",
   "mimetype": "text/x-python",
   "name": "python",
   "nbconvert_exporter": "python",
   "pygments_lexer": "ipython3",
   "version": "3.6.6"
  }
 },
 "nbformat": 4,
 "nbformat_minor": 2
}
