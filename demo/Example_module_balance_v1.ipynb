{
 "cells": [
  {
   "cell_type": "code",
   "execution_count": 1,
   "metadata": {},
   "outputs": [
    {
     "name": "stdout",
     "output_type": "stream",
     "text": [
      "Checking_for_right_len_in_balance.ipynb\r\n",
      "Junk - experimentation .ipynb\r\n",
      "Junk - experimentation 2.ipynb\r\n",
      "Junk - experimentation 3 - features & balance.ipynb\r\n",
      "balance junk v1.ipynb\r\n",
      "current_errors_TopMcMr_20181006.png\r\n",
      "\u001b[34mmannville_demo_data\u001b[m\u001b[m/\r\n",
      "predictionclasses junk v1.ipynb\r\n",
      "test junk.ipynb\r\n",
      "trainclasses junk v1.ipynb\r\n",
      "trainclasses junk v2.ipynb\r\n"
     ]
    }
   ],
   "source": [
    "ls"
   ]
  },
  {
   "cell_type": "code",
   "execution_count": 2,
   "metadata": {},
   "outputs": [
    {
     "name": "stderr",
     "output_type": "stream",
     "text": [
      "/Users/justingosses/anaconda/envs/MannvilleDask2/lib/python3.6/importlib/_bootstrap.py:219: RuntimeWarning: numpy.dtype size changed, may indicate binary incompatibility. Expected 96, got 88\n",
      "  return f(*args, **kwds)\n",
      "/Users/justingosses/anaconda/envs/MannvilleDask2/lib/python3.6/importlib/_bootstrap.py:219: RuntimeWarning: numpy.dtype size changed, may indicate binary incompatibility. Expected 96, got 88\n",
      "  return f(*args, **kwds)\n"
     ]
    }
   ],
   "source": [
    "import pandas as pd\n",
    "pd.set_option('display.max_rows', 500)\n",
    "pd.set_option('display.max_columns', 500)\n",
    "pd.set_option('display.width', 1000)"
   ]
  },
  {
   "cell_type": "code",
   "execution_count": 3,
   "metadata": {},
   "outputs": [
    {
     "name": "stdout",
     "output_type": "stream",
     "text": [
      "/Users/justingosses/Code/predictatops\n"
     ]
    }
   ],
   "source": [
    "cd .."
   ]
  },
  {
   "cell_type": "code",
   "execution_count": 4,
   "metadata": {},
   "outputs": [
    {
     "name": "stdout",
     "output_type": "stream",
     "text": [
      "AAPG_Abstract_2019ACE.md  README_0.rst              requirements.txt\r\n",
      "AUTHORS.rst               \u001b[34m__pycache__\u001b[m\u001b[m/              requirements_dev.txt\r\n",
      "CONTRIBUTING.rst          \u001b[34mdata\u001b[m\u001b[m/                     \u001b[34mresults\u001b[m\u001b[m/\r\n",
      "HISTORY.rst               \u001b[34mdemo\u001b[m\u001b[m/                     setup.cfg\r\n",
      "LICENSE                   \u001b[34mdocs\u001b[m\u001b[m/                     setup.py\r\n",
      "MANIFEST.in               environment.yml           \u001b[34mtests\u001b[m\u001b[m/\r\n",
      "Makefile                  \u001b[34mpredictatops\u001b[m\u001b[m/             tox.ini\r\n",
      "README.md                 \u001b[34mpredictatops.egg-info\u001b[m\u001b[m/\r\n"
     ]
    }
   ],
   "source": [
    "ls\n"
   ]
  },
  {
   "cell_type": "code",
   "execution_count": 5,
   "metadata": {},
   "outputs": [
    {
     "name": "stdout",
     "output_type": "stream",
     "text": [
      "/Users/justingosses/Code/predictatops/predictatops\n"
     ]
    }
   ],
   "source": [
    "cd predictatops/"
   ]
  },
  {
   "cell_type": "code",
   "execution_count": 6,
   "metadata": {},
   "outputs": [],
   "source": [
    "import trainclasses "
   ]
  },
  {
   "cell_type": "code",
   "execution_count": 7,
   "metadata": {},
   "outputs": [
    {
     "name": "stdout",
     "output_type": "stream",
     "text": [
      "head of picks df =      SitID  HorID      Pick  Quality\n",
      "0  102496   1000       321        1\n",
      "1  102496   2000                 -1\n",
      "2  102496   3000                 -1\n",
      "3  102496   4000                 -1\n",
      "4  102496   5000       438        2\n",
      "making base folder for results in: ../results\n",
      "base_path directory already exists, ../results  so not creating it again. This may or may not be what you intended, so just flagging it.\n",
      "directory  checkData  already exists so not making it again in make_all_directories function of configurationplusfiles.py\n",
      "directory  load  already exists so not making it again in make_all_directories function of configurationplusfiles.py\n",
      "directory  split  already exists so not making it again in make_all_directories function of configurationplusfiles.py\n",
      "directory  wellsKNN  already exists so not making it again in make_all_directories function of configurationplusfiles.py\n",
      "directory  features  already exists so not making it again in make_all_directories function of configurationplusfiles.py\n",
      "directory  balance  already exists so not making it again in make_all_directories function of configurationplusfiles.py\n",
      "directory  trainclasses  already exists so not making it again in make_all_directories function of configurationplusfiles.py\n",
      "directory  prediction  already exists so not making it again in make_all_directories function of configurationplusfiles.py\n",
      "directory  evaluate  already exists so not making it again in make_all_directories function of configurationplusfiles.py\n",
      "directory  map  already exists so not making it again in make_all_directories function of configurationplusfiles.py\n",
      "made directories for each step in the process. They should be in :  ../results\n",
      "must have curve list is:  ['ILD', 'NPHI', 'GR', 'DPHI', 'DEPT']\n",
      "set must_have_tops_list as:  [13000, 14000]\n",
      " set self.top_name_col_in_picks_df as:  HorID\n",
      "config.siteID_col_in_picks_df =  SitID\n",
      "all config is {'csv_of_well_names_wTopsCuves__name': '', 'csv_of_well_names_wTopCurves__path': '.', 'must_have_curves_list': ['ILD', 'NPHI', 'GR', 'DPHI', 'DEPT'], 'curve_windows_for_rolling_features': [5, 7, 11, 21], 'must_have_tops__list': [13000, 14000], 'target_top': 13000, 'top_under_target': 14000, 'top_name_col_in_picks_df': 'HorID', 'siteID_col_in_picks_df': 'SitID', 'UWI': 'UWI', 'DEPTH_col_in_featureCreation': 'DEPT', 'HorID_name_col_in_picks_df': 'HorID', 'quality_col_name_in_picks_df': 'Quality', 'picks_depth_col_in_picks_df': 'Pick', 'col_topTarget_Depth_predBy_NN1thick': 'topTarget_Depth_predBy_NN1thick', 'quality_items_to_skip__list': [-1, 0], 'test': 'test0', 'pick_class_str': 'TopTarget_Pick_pred', 'threshold_returnCurvesThatArePresentInThisManyWells': 2000, 'max_numb_wells_to_load': 1000000, 'split_traintest_percent': 0.8, 'kdtree_leaf': 2, 'kdtree_k': 8, 'NN1_topTarget_DEPTH': 'NN1_topTarget_DEPTH', 'NN1_TopHelper_DEPTH': 'NN1_TopHelper_DEPTH', 'trainOrTest': 'trainOrTest', 'colsToNotTurnToFloats': ['UWI', 'SitID', 'trainOrTest', 'Neighbors_Obj'], 'zonesAroundTops': {'100': [0], '95': [-0.5, 0.5], '60': [-5, 0.5], '70': [0.5, 5], '0': []}, 'columns_to_not_trainOn_andNotCurves': ['FromBotWell', 'FromTopWelrowsToEdge', 'lat', 'lng', 'SitID', 'TopHelper_HorID', 'TopTarget_HorID', 'TopHelper_DEPTH', 'diff_Top_Depth_Real_v_predBy_NN1thick', 'diff_TopTarget_DEPTH_v_rowDEPT', 'diff_TopHelper_DEPTH_v_rowDEPT', 'class_DistFrPick_TopHelper', 'NewWell', 'LastBitWell', 'TopWellDept', 'BotWellDept', 'WellThickness', 'rowsToEdge', 'closTopBotDist', 'closerToBotOrTop', 'Neighbors_Obj'], 'columns_to_not_trainOn_andAreCurves': ['RHOB', 'SP', 'CALI', 'COND', 'DELT', 'DENS', 'DPHI:1', 'DPHI:2', 'DT', 'GR:1', 'GR:2', 'IL', 'ILD:1', 'ILD:2', 'ILM', 'LITH', 'LLD', 'LLS', 'PHID', 'PHIN', 'RESD', 'RT', 'SFL', 'SFLU', 'SN', 'SNP', 'Sp'], 'columns_to_use_as_labels': ['class_DistFrPick_TopTarget', 'UWI', 'trainOrTest', 'TopTarget_DEPTH']}\n"
     ]
    }
   ],
   "source": [
    "################ import from other python files in this package ###################\n",
    "from balance import *\n",
    "from configurationplusfiles_runner import input_data_inst, config, output_data_inst\n",
    "from main import get_df_results_from_step_X, getMainDFsavedInStep, load_prev_results_at_path\n",
    "\n"
   ]
  },
  {
   "cell_type": "code",
   "execution_count": 8,
   "metadata": {},
   "outputs": [],
   "source": [
    "################# LOAD DATA RESULTS FROM FEATURE CREATION STEP PREVIOUSLY ##############\n",
    "features_df_results = get_features_df_results(output_data_inst)\n",
    "\n"
   ]
  },
  {
   "cell_type": "code",
   "execution_count": 9,
   "metadata": {},
   "outputs": [],
   "source": [
    "df_all_Col_train_noRebalance, df_all_Col_test = takeInDFandSplitIntoTrainTestDF(features_df_results,config)\n",
    "\n"
   ]
  },
  {
   "cell_type": "code",
   "execution_count": null,
   "metadata": {},
   "outputs": [],
   "source": []
  },
  {
   "cell_type": "code",
   "execution_count": 10,
   "metadata": {},
   "outputs": [],
   "source": [
    "##### Rebalance class, aka label, populations to deal with lopsided class populations\n",
    "##### Because we have a lot more rows far away from the pick than exactly at the pick or close to the pick, we run the risk of being class heavy in some areas. This can result in not enough ability to identify the sparsely populate classes, like right at the pick.\n",
    "##### We'll attemp to deal with this problem by throwing out some of the rows far away from the pick and duplicating some of the rows right at or near the pick.\n",
    "##### THIS SHOULD ONLY BE DONE TO THE TRAINING DATA NOT THE TEST DATA OR THAT IS CHEATING!\n",
    "\n",
    "class_array_NearPick = getListOfKeysForZonesObj(config)\n",
    "\n"
   ]
  },
  {
   "cell_type": "code",
   "execution_count": 11,
   "metadata": {},
   "outputs": [
    {
     "name": "stdout",
     "output_type": "stream",
     "text": [
      "length of rows with 100 in class_DistFrPick_TopTarget: 212\n",
      "length of rows with 95 in class_DistFrPick_TopTarget: 993\n",
      "length of rows with 60 in class_DistFrPick_TopTarget: 5370\n",
      "length of rows with 70 in class_DistFrPick_TopTarget: 5473\n",
      "length of rows with 0 in class_DistFrPick_TopTarget: 249212\n",
      "length of rows with 0 in class_DistFrPick_TopTarget and %2 == 0 is: 0\n",
      "% reduction in classs 0 is: 0 %\n",
      "if taken out using this remainder, the total number of 0 class will be:  0\n"
     ]
    }
   ],
   "source": [
    "test_df_return = countRowsByClassOfNearPickOrNot(df_all_Col_test,class_array_NearPick,2,0)"
   ]
  },
  {
   "cell_type": "code",
   "execution_count": 12,
   "metadata": {},
   "outputs": [
    {
     "name": "stdout",
     "output_type": "stream",
     "text": [
      "original lenght of dataframe =  1041374\n",
      "length of new dataframe after dropping rows =  146993\n",
      "number of rows dropped =  894381\n",
      "length of 0 class is : 99404\n",
      "<class 'pandas.core.frame.DataFrame'>\n",
      "Int64Index: 146993 entries, 0 to 1302630\n",
      "Columns: 209 entries, CALI to DEPT_min_21winSize_dirAroundnLarge\n",
      "dtypes: bool(2), float64(199), int64(2), object(6)\n",
      "memory usage: 233.5+ MB\n"
     ]
    }
   ],
   "source": [
    "#### prints some info for checking the populations of the classes\n",
    "df_all_Col_preSplit_wTrainTest_ClassBalanced = dropsRowsWithMatchClassAndDeptRemainderIsZero(df_all_Col_train_noRebalance,'class_DistFrPick_TopTarget',7,'0')\n",
    "\n",
    "#### prints some info for checking the populations of the classes\n",
    "df_all_Col_preSplit_wTrainTest_ClassBalanced.info()"
   ]
  },
  {
   "cell_type": "code",
   "execution_count": 13,
   "metadata": {},
   "outputs": [
    {
     "name": "stdout",
     "output_type": "stream",
     "text": [
      "length of rows with 100 in class_DistFrPick_TopTarget: 761\n",
      "length of rows with 95 in class_DistFrPick_TopTarget: 4020\n",
      "length of rows with 60 in class_DistFrPick_TopTarget: 21253\n",
      "length of rows with 70 in class_DistFrPick_TopTarget: 21555\n",
      "length of rows with 0 in class_DistFrPick_TopTarget: 99404\n",
      "length of rows with 0 in class_DistFrPick_TopTarget and %2 == 0 is: 0\n",
      "% reduction in classs 0 is: 0 %\n",
      "if taken out using this remainder, the total number of 0 class will be:  0\n"
     ]
    }
   ],
   "source": [
    "test_df_return2 = countRowsByClassOfNearPickOrNot(df_all_Col_preSplit_wTrainTest_ClassBalanced,class_array_NearPick,2,0)"
   ]
  },
  {
   "cell_type": "code",
   "execution_count": 14,
   "metadata": {},
   "outputs": [
    {
     "name": "stdout",
     "output_type": "stream",
     "text": [
      "0\n",
      "1\n",
      "2\n",
      "3\n",
      "4\n",
      "5\n",
      "6\n",
      "7\n",
      "8\n",
      "9\n",
      "10\n",
      "11\n",
      "12\n",
      "13\n",
      "14\n",
      "15\n",
      "16\n",
      "17\n",
      "18\n",
      "19\n",
      "20\n",
      "21\n",
      "22\n",
      "23\n",
      "24\n",
      "25\n",
      "26\n",
      "27\n",
      "28\n",
      "29\n",
      "30\n",
      "31\n",
      "32\n",
      "33\n",
      "34\n",
      "35\n",
      "36\n",
      "37\n",
      "38\n",
      "39\n",
      "40\n",
      "41\n",
      "42\n",
      "43\n",
      "44\n",
      "45\n",
      "46\n",
      "47\n",
      "48\n",
      "49\n",
      "0\n",
      "1\n",
      "2\n",
      "3\n",
      "4\n",
      "5\n",
      "6\n",
      "7\n",
      "8\n",
      "9\n"
     ]
    }
   ],
   "source": [
    "#### now we duplicate some rows for the class that wasn't well populated.\n",
    "df_all_Col_preSplit_wTrainTest_ClassBalanced2 = addsRowsToBalanceClasses(df_all_Col_preSplit_wTrainTest_ClassBalanced,50,10)\n"
   ]
  },
  {
   "cell_type": "code",
   "execution_count": 15,
   "metadata": {},
   "outputs": [
    {
     "name": "stdout",
     "output_type": "stream",
     "text": [
      "length of rows with 100 in class_DistFrPick_TopTarget: 38811\n",
      "length of rows with 95 in class_DistFrPick_TopTarget: 44220\n",
      "length of rows with 60 in class_DistFrPick_TopTarget: 21253\n",
      "length of rows with 70 in class_DistFrPick_TopTarget: 21555\n",
      "length of rows with 0 in class_DistFrPick_TopTarget: 99404\n",
      "length of rows with 0 in class_DistFrPick_TopTarget and %2 == 0 is: 0\n",
      "% reduction in classs 0 is: 0 %\n",
      "if taken out using this remainder, the total number of 0 class will be:  0\n"
     ]
    }
   ],
   "source": [
    "test_df_return3 = countRowsByClassOfNearPickOrNot(df_all_Col_preSplit_wTrainTest_ClassBalanced2,class_array_NearPick,2,0)"
   ]
  },
  {
   "cell_type": "code",
   "execution_count": 16,
   "metadata": {},
   "outputs": [
    {
     "name": "stdout",
     "output_type": "stream",
     "text": [
      "225243\n",
      "<class 'pandas.core.frame.DataFrame'>\n",
      "RangeIndex: 225243 entries, 0 to 225242\n",
      "Columns: 209 entries, CALI to DEPT_min_21winSize_dirAroundnLarge\n",
      "dtypes: bool(2), float64(199), int64(2), object(6)\n",
      "memory usage: 356.2+ MB\n",
      "None\n"
     ]
    }
   ],
   "source": [
    "#### Prints some status on : findNumberOfEachClass\n",
    "findNumberOfEachClass(df_all_Col_preSplit_wTrainTest_ClassBalanced2,'class_DistFrPick_TopTarget')\n",
    "print(len(df_all_Col_preSplit_wTrainTest_ClassBalanced2))\n",
    "\n",
    "print(df_all_Col_preSplit_wTrainTest_ClassBalanced2.info())\n",
    "\n"
   ]
  },
  {
   "cell_type": "code",
   "execution_count": 17,
   "metadata": {},
   "outputs": [
    {
     "name": "stdout",
     "output_type": "stream",
     "text": [
      "col_list in module balance_runner.py ['CALI', 'COND', 'DELT', 'DEPT', 'DPHI', 'DT', 'GR', 'ILD', 'ILM', 'NPHI', 'PHID', 'RHOB', 'SFL', 'SFLU', 'SN', 'SP', 'UWI', 'trainOrTest', 'SitID', 'lat', 'lng', 'TopHelper_HorID', 'TopTarget_HorID', 'TopHelper_DEPTH', 'TopTarget_DEPTH', 'TopHelper_HorID_Qual', 'TopTarget_Qual', 'Neighbors_Obj', 'NN1_topTarget_DEPTH', 'NN1_TopHelper_DEPTH', 'NN1_thickness', 'topTarget_Depth_predBy_NN1thick', 'diff_Top_Depth_Real_v_predBy_NN1thick', 'diff_TopTarget_DEPTH_v_rowDEPT', 'diff_TopHelper_DEPTH_v_rowDEPT', 'class_DistFrPick_TopTarget', 'class_DistFrPick_TopHelper', 'DistFrom_NN1ThickPredTopDepth_toRowDept', 'NewWell', 'LastBitWell', 'TopWellDept', 'BotWellDept', 'FromTopWell', 'FromBotWell', 'WellThickness', 'closerToBotOrTop', 'closTopBotDist', 'rowsToEdge', 'diff_DEPT_vs_NN1_topTarget_DEPTH', 'ILD_min_5winSize_dirAroundMin', 'ILD_min_5winSize_dirAboveMin', 'ILD_min_5winSize_dirAroundMax', 'ILD_min_5winSize_dirAboveMax', 'ILD_min_5winSize_dirAroundMean', 'ILD_min_5winSize_dirAboveMean', 'ILD_min_5winSize_dirAbovenLarge', 'ILD_min_5winSize_dirAroundnLarge', 'ILD_min_7winSize_dirAroundMin', 'ILD_min_7winSize_dirAboveMin', 'ILD_min_7winSize_dirAroundMax', 'ILD_min_7winSize_dirAboveMax', 'ILD_min_7winSize_dirAroundMean', 'ILD_min_7winSize_dirAboveMean', 'ILD_min_7winSize_dirAbovenLarge', 'ILD_min_7winSize_dirAroundnLarge', 'ILD_min_11winSize_dirAroundMin', 'ILD_min_11winSize_dirAboveMin', 'ILD_min_11winSize_dirAroundMax', 'ILD_min_11winSize_dirAboveMax', 'ILD_min_11winSize_dirAroundMean', 'ILD_min_11winSize_dirAboveMean', 'ILD_min_11winSize_dirAbovenLarge', 'ILD_min_11winSize_dirAroundnLarge', 'ILD_min_21winSize_dirAroundMin', 'ILD_min_21winSize_dirAboveMin', 'ILD_min_21winSize_dirAroundMax', 'ILD_min_21winSize_dirAboveMax', 'ILD_min_21winSize_dirAroundMean', 'ILD_min_21winSize_dirAboveMean', 'ILD_min_21winSize_dirAbovenLarge', 'ILD_min_21winSize_dirAroundnLarge', 'NPHI_min_5winSize_dirAroundMin', 'NPHI_min_5winSize_dirAboveMin', 'NPHI_min_5winSize_dirAroundMax', 'NPHI_min_5winSize_dirAboveMax', 'NPHI_min_5winSize_dirAroundMean', 'NPHI_min_5winSize_dirAboveMean', 'NPHI_min_5winSize_dirAbovenLarge', 'NPHI_min_5winSize_dirAroundnLarge', 'NPHI_min_7winSize_dirAroundMin', 'NPHI_min_7winSize_dirAboveMin', 'NPHI_min_7winSize_dirAroundMax', 'NPHI_min_7winSize_dirAboveMax', 'NPHI_min_7winSize_dirAroundMean', 'NPHI_min_7winSize_dirAboveMean', 'NPHI_min_7winSize_dirAbovenLarge', 'NPHI_min_7winSize_dirAroundnLarge', 'NPHI_min_11winSize_dirAroundMin', 'NPHI_min_11winSize_dirAboveMin', 'NPHI_min_11winSize_dirAroundMax', 'NPHI_min_11winSize_dirAboveMax', 'NPHI_min_11winSize_dirAroundMean', 'NPHI_min_11winSize_dirAboveMean', 'NPHI_min_11winSize_dirAbovenLarge', 'NPHI_min_11winSize_dirAroundnLarge', 'NPHI_min_21winSize_dirAroundMin', 'NPHI_min_21winSize_dirAboveMin', 'NPHI_min_21winSize_dirAroundMax', 'NPHI_min_21winSize_dirAboveMax', 'NPHI_min_21winSize_dirAroundMean', 'NPHI_min_21winSize_dirAboveMean', 'NPHI_min_21winSize_dirAbovenLarge', 'NPHI_min_21winSize_dirAroundnLarge', 'GR_min_5winSize_dirAroundMin', 'GR_min_5winSize_dirAboveMin', 'GR_min_5winSize_dirAroundMax', 'GR_min_5winSize_dirAboveMax', 'GR_min_5winSize_dirAroundMean', 'GR_min_5winSize_dirAboveMean', 'GR_min_5winSize_dirAbovenLarge', 'GR_min_5winSize_dirAroundnLarge', 'GR_min_7winSize_dirAroundMin', 'GR_min_7winSize_dirAboveMin', 'GR_min_7winSize_dirAroundMax', 'GR_min_7winSize_dirAboveMax', 'GR_min_7winSize_dirAroundMean', 'GR_min_7winSize_dirAboveMean', 'GR_min_7winSize_dirAbovenLarge', 'GR_min_7winSize_dirAroundnLarge', 'GR_min_11winSize_dirAroundMin', 'GR_min_11winSize_dirAboveMin', 'GR_min_11winSize_dirAroundMax', 'GR_min_11winSize_dirAboveMax', 'GR_min_11winSize_dirAroundMean', 'GR_min_11winSize_dirAboveMean', 'GR_min_11winSize_dirAbovenLarge', 'GR_min_11winSize_dirAroundnLarge', 'GR_min_21winSize_dirAroundMin', 'GR_min_21winSize_dirAboveMin', 'GR_min_21winSize_dirAroundMax', 'GR_min_21winSize_dirAboveMax', 'GR_min_21winSize_dirAroundMean', 'GR_min_21winSize_dirAboveMean', 'GR_min_21winSize_dirAbovenLarge', 'GR_min_21winSize_dirAroundnLarge', 'DPHI_min_5winSize_dirAroundMin', 'DPHI_min_5winSize_dirAboveMin', 'DPHI_min_5winSize_dirAroundMax', 'DPHI_min_5winSize_dirAboveMax', 'DPHI_min_5winSize_dirAroundMean', 'DPHI_min_5winSize_dirAboveMean', 'DPHI_min_5winSize_dirAbovenLarge', 'DPHI_min_5winSize_dirAroundnLarge', 'DPHI_min_7winSize_dirAroundMin', 'DPHI_min_7winSize_dirAboveMin', 'DPHI_min_7winSize_dirAroundMax', 'DPHI_min_7winSize_dirAboveMax', 'DPHI_min_7winSize_dirAroundMean', 'DPHI_min_7winSize_dirAboveMean', 'DPHI_min_7winSize_dirAbovenLarge', 'DPHI_min_7winSize_dirAroundnLarge', 'DPHI_min_11winSize_dirAroundMin', 'DPHI_min_11winSize_dirAboveMin', 'DPHI_min_11winSize_dirAroundMax', 'DPHI_min_11winSize_dirAboveMax', 'DPHI_min_11winSize_dirAroundMean', 'DPHI_min_11winSize_dirAboveMean', 'DPHI_min_11winSize_dirAbovenLarge', 'DPHI_min_11winSize_dirAroundnLarge', 'DPHI_min_21winSize_dirAroundMin', 'DPHI_min_21winSize_dirAboveMin', 'DPHI_min_21winSize_dirAroundMax', 'DPHI_min_21winSize_dirAboveMax', 'DPHI_min_21winSize_dirAroundMean', 'DPHI_min_21winSize_dirAboveMean', 'DPHI_min_21winSize_dirAbovenLarge', 'DPHI_min_21winSize_dirAroundnLarge', 'DEPT_min_5winSize_dirAroundMin', 'DEPT_min_5winSize_dirAboveMin', 'DEPT_min_5winSize_dirAroundMax', 'DEPT_min_5winSize_dirAboveMax', 'DEPT_min_5winSize_dirAroundMean', 'DEPT_min_5winSize_dirAboveMean', 'DEPT_min_5winSize_dirAbovenLarge', 'DEPT_min_5winSize_dirAroundnLarge', 'DEPT_min_7winSize_dirAroundMin', 'DEPT_min_7winSize_dirAboveMin', 'DEPT_min_7winSize_dirAroundMax', 'DEPT_min_7winSize_dirAboveMax', 'DEPT_min_7winSize_dirAroundMean', 'DEPT_min_7winSize_dirAboveMean', 'DEPT_min_7winSize_dirAbovenLarge', 'DEPT_min_7winSize_dirAroundnLarge', 'DEPT_min_11winSize_dirAroundMin', 'DEPT_min_11winSize_dirAboveMin', 'DEPT_min_11winSize_dirAroundMax', 'DEPT_min_11winSize_dirAboveMax', 'DEPT_min_11winSize_dirAroundMean', 'DEPT_min_11winSize_dirAboveMean', 'DEPT_min_11winSize_dirAbovenLarge', 'DEPT_min_11winSize_dirAroundnLarge', 'DEPT_min_21winSize_dirAroundMin', 'DEPT_min_21winSize_dirAboveMin', 'DEPT_min_21winSize_dirAroundMax', 'DEPT_min_21winSize_dirAboveMax', 'DEPT_min_21winSize_dirAroundMean', 'DEPT_min_21winSize_dirAboveMean', 'DEPT_min_21winSize_dirAbovenLarge', 'DEPT_min_21winSize_dirAroundnLarge']\n"
     ]
    }
   ],
   "source": [
    "df_all_Col_preSplit_wTrainTest_ClassBalanced = df_all_Col_preSplit_wTrainTest_ClassBalanced2\n",
    "\n",
    "#### printing a list of all the columns that we will use further down.\n",
    "col_list = list(df_all_Col_preSplit_wTrainTest_ClassBalanced.columns)\n",
    "print(\"col_list in module balance_runner.py\",col_list)"
   ]
  },
  {
   "cell_type": "code",
   "execution_count": 18,
   "metadata": {},
   "outputs": [],
   "source": [
    "#### We'll now exclude two lists of columns before going further! ##############3\n",
    "columns_to_not_trainOn_andNotCurves = config.columns_to_not_trainOn_andNotCurves\n",
    "columns_to_not_trainOn_andAreCurves = config.columns_to_not_trainOn_andAreCurves\n",
    "\n",
    "##### NOTE: BUT LEAVE IN THE 'class_DistFrPick_TopTarget' column for now as thats a label we'll use in label df!!!! ####\n"
   ]
  },
  {
   "cell_type": "code",
   "execution_count": 19,
   "metadata": {},
   "outputs": [
    {
     "name": "stdout",
     "output_type": "stream",
     "text": [
      "number of columns in dataframe coming into function 209\n",
      "number of columns in dataframe leaving function 178\n",
      "list(df_train_featWithHighCount.columns) - Are these columns we want to continue having for training? ['DEPT', 'DPHI', 'GR', 'ILD', 'NPHI', 'UWI', 'trainOrTest', 'TopTarget_DEPTH', 'TopHelper_HorID_Qual', 'TopTarget_Qual', 'NN1_topTarget_DEPTH', 'NN1_TopHelper_DEPTH', 'NN1_thickness', 'topTarget_Depth_predBy_NN1thick', 'class_DistFrPick_TopTarget', 'DistFrom_NN1ThickPredTopDepth_toRowDept', 'FromTopWell', 'diff_DEPT_vs_NN1_topTarget_DEPTH', 'ILD_min_5winSize_dirAroundMin', 'ILD_min_5winSize_dirAboveMin', 'ILD_min_5winSize_dirAroundMax', 'ILD_min_5winSize_dirAboveMax', 'ILD_min_5winSize_dirAroundMean', 'ILD_min_5winSize_dirAboveMean', 'ILD_min_5winSize_dirAbovenLarge', 'ILD_min_5winSize_dirAroundnLarge', 'ILD_min_7winSize_dirAroundMin', 'ILD_min_7winSize_dirAboveMin', 'ILD_min_7winSize_dirAroundMax', 'ILD_min_7winSize_dirAboveMax', 'ILD_min_7winSize_dirAroundMean', 'ILD_min_7winSize_dirAboveMean', 'ILD_min_7winSize_dirAbovenLarge', 'ILD_min_7winSize_dirAroundnLarge', 'ILD_min_11winSize_dirAroundMin', 'ILD_min_11winSize_dirAboveMin', 'ILD_min_11winSize_dirAroundMax', 'ILD_min_11winSize_dirAboveMax', 'ILD_min_11winSize_dirAroundMean', 'ILD_min_11winSize_dirAboveMean', 'ILD_min_11winSize_dirAbovenLarge', 'ILD_min_11winSize_dirAroundnLarge', 'ILD_min_21winSize_dirAroundMin', 'ILD_min_21winSize_dirAboveMin', 'ILD_min_21winSize_dirAroundMax', 'ILD_min_21winSize_dirAboveMax', 'ILD_min_21winSize_dirAroundMean', 'ILD_min_21winSize_dirAboveMean', 'ILD_min_21winSize_dirAbovenLarge', 'ILD_min_21winSize_dirAroundnLarge', 'NPHI_min_5winSize_dirAroundMin', 'NPHI_min_5winSize_dirAboveMin', 'NPHI_min_5winSize_dirAroundMax', 'NPHI_min_5winSize_dirAboveMax', 'NPHI_min_5winSize_dirAroundMean', 'NPHI_min_5winSize_dirAboveMean', 'NPHI_min_5winSize_dirAbovenLarge', 'NPHI_min_5winSize_dirAroundnLarge', 'NPHI_min_7winSize_dirAroundMin', 'NPHI_min_7winSize_dirAboveMin', 'NPHI_min_7winSize_dirAroundMax', 'NPHI_min_7winSize_dirAboveMax', 'NPHI_min_7winSize_dirAroundMean', 'NPHI_min_7winSize_dirAboveMean', 'NPHI_min_7winSize_dirAbovenLarge', 'NPHI_min_7winSize_dirAroundnLarge', 'NPHI_min_11winSize_dirAroundMin', 'NPHI_min_11winSize_dirAboveMin', 'NPHI_min_11winSize_dirAroundMax', 'NPHI_min_11winSize_dirAboveMax', 'NPHI_min_11winSize_dirAroundMean', 'NPHI_min_11winSize_dirAboveMean', 'NPHI_min_11winSize_dirAbovenLarge', 'NPHI_min_11winSize_dirAroundnLarge', 'NPHI_min_21winSize_dirAroundMin', 'NPHI_min_21winSize_dirAboveMin', 'NPHI_min_21winSize_dirAroundMax', 'NPHI_min_21winSize_dirAboveMax', 'NPHI_min_21winSize_dirAroundMean', 'NPHI_min_21winSize_dirAboveMean', 'NPHI_min_21winSize_dirAbovenLarge', 'NPHI_min_21winSize_dirAroundnLarge', 'GR_min_5winSize_dirAroundMin', 'GR_min_5winSize_dirAboveMin', 'GR_min_5winSize_dirAroundMax', 'GR_min_5winSize_dirAboveMax', 'GR_min_5winSize_dirAroundMean', 'GR_min_5winSize_dirAboveMean', 'GR_min_5winSize_dirAbovenLarge', 'GR_min_5winSize_dirAroundnLarge', 'GR_min_7winSize_dirAroundMin', 'GR_min_7winSize_dirAboveMin', 'GR_min_7winSize_dirAroundMax', 'GR_min_7winSize_dirAboveMax', 'GR_min_7winSize_dirAroundMean', 'GR_min_7winSize_dirAboveMean', 'GR_min_7winSize_dirAbovenLarge', 'GR_min_7winSize_dirAroundnLarge', 'GR_min_11winSize_dirAroundMin', 'GR_min_11winSize_dirAboveMin', 'GR_min_11winSize_dirAroundMax', 'GR_min_11winSize_dirAboveMax', 'GR_min_11winSize_dirAroundMean', 'GR_min_11winSize_dirAboveMean', 'GR_min_11winSize_dirAbovenLarge', 'GR_min_11winSize_dirAroundnLarge', 'GR_min_21winSize_dirAroundMin', 'GR_min_21winSize_dirAboveMin', 'GR_min_21winSize_dirAroundMax', 'GR_min_21winSize_dirAboveMax', 'GR_min_21winSize_dirAroundMean', 'GR_min_21winSize_dirAboveMean', 'GR_min_21winSize_dirAbovenLarge', 'GR_min_21winSize_dirAroundnLarge', 'DPHI_min_5winSize_dirAroundMin', 'DPHI_min_5winSize_dirAboveMin', 'DPHI_min_5winSize_dirAroundMax', 'DPHI_min_5winSize_dirAboveMax', 'DPHI_min_5winSize_dirAroundMean', 'DPHI_min_5winSize_dirAboveMean', 'DPHI_min_5winSize_dirAbovenLarge', 'DPHI_min_5winSize_dirAroundnLarge', 'DPHI_min_7winSize_dirAroundMin', 'DPHI_min_7winSize_dirAboveMin', 'DPHI_min_7winSize_dirAroundMax', 'DPHI_min_7winSize_dirAboveMax', 'DPHI_min_7winSize_dirAroundMean', 'DPHI_min_7winSize_dirAboveMean', 'DPHI_min_7winSize_dirAbovenLarge', 'DPHI_min_7winSize_dirAroundnLarge', 'DPHI_min_11winSize_dirAroundMin', 'DPHI_min_11winSize_dirAboveMin', 'DPHI_min_11winSize_dirAroundMax', 'DPHI_min_11winSize_dirAboveMax', 'DPHI_min_11winSize_dirAroundMean', 'DPHI_min_11winSize_dirAboveMean', 'DPHI_min_11winSize_dirAbovenLarge', 'DPHI_min_11winSize_dirAroundnLarge', 'DPHI_min_21winSize_dirAroundMin', 'DPHI_min_21winSize_dirAboveMin', 'DPHI_min_21winSize_dirAroundMax', 'DPHI_min_21winSize_dirAboveMax', 'DPHI_min_21winSize_dirAroundMean', 'DPHI_min_21winSize_dirAboveMean', 'DPHI_min_21winSize_dirAbovenLarge', 'DPHI_min_21winSize_dirAroundnLarge', 'DEPT_min_5winSize_dirAroundMin', 'DEPT_min_5winSize_dirAboveMin', 'DEPT_min_5winSize_dirAroundMax', 'DEPT_min_5winSize_dirAboveMax', 'DEPT_min_5winSize_dirAroundMean', 'DEPT_min_5winSize_dirAboveMean', 'DEPT_min_5winSize_dirAbovenLarge', 'DEPT_min_5winSize_dirAroundnLarge', 'DEPT_min_7winSize_dirAroundMin', 'DEPT_min_7winSize_dirAboveMin', 'DEPT_min_7winSize_dirAroundMax', 'DEPT_min_7winSize_dirAboveMax', 'DEPT_min_7winSize_dirAroundMean', 'DEPT_min_7winSize_dirAboveMean', 'DEPT_min_7winSize_dirAbovenLarge', 'DEPT_min_7winSize_dirAroundnLarge', 'DEPT_min_11winSize_dirAroundMin', 'DEPT_min_11winSize_dirAboveMin', 'DEPT_min_11winSize_dirAroundMax', 'DEPT_min_11winSize_dirAboveMax', 'DEPT_min_11winSize_dirAroundMean', 'DEPT_min_11winSize_dirAboveMean', 'DEPT_min_11winSize_dirAbovenLarge', 'DEPT_min_11winSize_dirAroundnLarge', 'DEPT_min_21winSize_dirAroundMin', 'DEPT_min_21winSize_dirAboveMin', 'DEPT_min_21winSize_dirAroundMax', 'DEPT_min_21winSize_dirAboveMax', 'DEPT_min_21winSize_dirAroundMean', 'DEPT_min_21winSize_dirAboveMean', 'DEPT_min_21winSize_dirAbovenLarge', 'DEPT_min_21winSize_dirAroundnLarge']\n",
      "len(df_train_featWithHighCount.columns) 178\n"
     ]
    }
   ],
   "source": [
    "############ Next few lines to combine the two lists above and take those columns out of dataframe ###########\n",
    "\n",
    "training_feats_w_lowCount  = config.columns_to_not_trainOn_andAreCurves\n",
    "takeOutColumnsNotCurvesList = config.columns_to_not_trainOn_andNotCurves\n",
    "\n",
    "df_train_featWithHighCount = takeOutColNotNeededInTrainingDF(df_all_Col_preSplit_wTrainTest_ClassBalanced,col_list,training_feats_w_lowCount,takeOutColumnsNotCurvesList)\n",
    "\n",
    "\n",
    "print(\"list(df_train_featWithHighCount.columns) - Are these columns we want to continue having for training?\",list(df_train_featWithHighCount.columns))\n",
    "print(\"len(df_train_featWithHighCount.columns)\",len(df_train_featWithHighCount.columns))\n"
   ]
  },
  {
   "cell_type": "code",
   "execution_count": 20,
   "metadata": {},
   "outputs": [
    {
     "name": "stdout",
     "output_type": "stream",
     "text": [
      "number of columns in dataframe coming into function 209\n",
      "number of columns in dataframe leaving function 178\n"
     ]
    }
   ],
   "source": [
    "## df_train_featWithHighCount.describe()\n",
    "\n",
    "used_features = list(df_train_featWithHighCount.columns)\n",
    "\n",
    "########### Now let's take out those same columns in the test only dataframe ########### \n",
    "\n",
    "df_test_featWithHighCount = takeOutColNotNeededInTrainingDF(df_all_Col_test,col_list,training_feats_w_lowCount,takeOutColumnsNotCurvesList)\n",
    "\n",
    "########### Now let's combine the rebalanced train df with the unrebalanced test df to make a df we will then split into 4 pieces: train-data, train-labels, test-data,test-lables ##########\n",
    "df_testPlusRebalTrain_featWithHighCount = combineRebalancedTrainDFWithUnrebalancedTestDF(df_train_featWithHighCount,df_test_featWithHighCount)\n",
    "\n"
   ]
  },
  {
   "cell_type": "code",
   "execution_count": 21,
   "metadata": {},
   "outputs": [
    {
     "data": {
      "text/plain": [
       "486503"
      ]
     },
     "execution_count": 21,
     "metadata": {},
     "output_type": "execute_result"
    }
   ],
   "source": [
    "######## Identify which columns to use as labels ########\n",
    "# The column 'cat_isTopMcMrNearby_known' is what we'll use as labels.\n",
    "\n",
    "#     100 = exactly the Top McMurray Pick\n",
    "#     95 if the distance between that depth and the Top McMurray Pick is -0.5 < x and x <0.5\n",
    "#     60 if the distance between that depth and the Top McMurray Pick is -5 < x and x < 5\n",
    "#     0 = not near the Top McMurray Pick\n",
    "\n",
    "# The function used to make these classes or lables as column was: df_all_wells_wKNN_DEPTHtoDEPT['cat_isTopMcMrNearby_known']=df_all_wells_wKNN_DEPTHtoDEPT['diff_TMcM_Pick_v_DEPT'].apply(lambda x: 100 if x==0 else ( 95 if (-0.5 < x and x <0.5) else 60 if (-5 < x and x <5) else 0))\n",
    "\n",
    "df_testPlusRebalTrain_featWithHighCount['class_DistFrPick_TopTarget'].unique()\n",
    "labels = df_testPlusRebalTrain_featWithHighCount[['class_DistFrPick_TopTarget','UWI','trainOrTest','TopTarget_DEPTH']]\n",
    "\n",
    "labels.head()\n",
    "\n",
    "labels.tail()\n",
    "\n",
    "len(labels)"
   ]
  },
  {
   "cell_type": "code",
   "execution_count": 22,
   "metadata": {},
   "outputs": [],
   "source": [
    "##### Get dataframe of just the labels!  ###########\n",
    "#labels = df_testPlusRebalTrain_featWithHighCount[columns_to_use_as_labels]\n",
    "\n",
    "labels = makeDFofJustLabels(df_testPlusRebalTrain_featWithHighCount,config)"
   ]
  },
  {
   "cell_type": "code",
   "execution_count": 23,
   "metadata": {},
   "outputs": [
    {
     "name": "stdout",
     "output_type": "stream",
     "text": [
      "columns that are being treated as labels and dropped/added accordinating are: ['class_DistFrPick_TopTarget', 'UWI', 'trainOrTest', 'TopTarget_DEPTH']  from configuration class instance attribute 'columns_to_use_as_labels'\n",
      "finished saving the results of the rebalancing script in the location set in the output class instance. =  ../results/balance/wells_wTopsCurvesSplitsKNNFeaturesBalance.h5\n"
     ]
    }
   ],
   "source": [
    "##############     Now separate into 4 dataframes =    ###########\n",
    "# train_labels\n",
    "# train_feat\n",
    "# test_labels\n",
    "# test_feat\n",
    "\n",
    "df_testPlusRebalTrain_featWithHighCount, train_X, train_y, test_X, test_y, train_index, test_index = make4separateDF(labels,df_testPlusRebalTrain_featWithHighCount,config)\n",
    "\n",
    "# Then take off UWI and TrainTest col <= check that this was done??????\n",
    "\n",
    "\n",
    "#### Save Results to Locatino Established in : output_data_inst\n",
    "saveRebalanceResultsAsHDF(df_testPlusRebalTrain_featWithHighCount, train_X, train_y, test_X, test_y, train_index, test_index, output_data_inst)"
   ]
  },
  {
   "cell_type": "code",
   "execution_count": null,
   "metadata": {},
   "outputs": [],
   "source": []
  }
 ],
 "metadata": {
  "kernelspec": {
   "display_name": "Python [conda env:MannvilleDask2]",
   "language": "python",
   "name": "conda-env-MannvilleDask2-py"
  },
  "language_info": {
   "codemirror_mode": {
    "name": "ipython",
    "version": 3
   },
   "file_extension": ".py",
   "mimetype": "text/x-python",
   "name": "python",
   "nbconvert_exporter": "python",
   "pygments_lexer": "ipython3",
   "version": "3.6.6"
  }
 },
 "nbformat": 4,
 "nbformat_minor": 2
}
